{
 "cells": [
  {
   "cell_type": "code",
   "execution_count": 2,
   "metadata": {},
   "outputs": [],
   "source": [
    "import numpy as np \n",
    "import pandas as pd\n",
    "import matplotlib.pyplot as plt\n",
    "import seaborn as sns\n"
   ]
  },
  {
   "cell_type": "code",
   "execution_count": 3,
   "metadata": {},
   "outputs": [],
   "source": [
    "def get_time_data(file_path, column_name = 'elapsed time'):\n",
    "    from pathlib import Path\n",
    "    \n",
    "    df_out = pd.DataFrame(columns=['number', 'tws size', column_name])\n",
    "\n",
    "    with open(file_path, 'r') as file:\n",
    "        for line in file.readlines():\n",
    "            line_list = line.split()\n",
    "            if line_list != []:\n",
    "                if line_list[0] == 'tws':\n",
    "                    line_temp = {'number' : [int(line_list[8])], 'tws size': [line_list[11]],  column_name:[line_list[2]] }\n",
    "                    df_temp = pd.DataFrame(line_temp)\n",
    "                    df_out = pd.concat([df_out, df_temp ])\n",
    "    df_out.set_index(\"number\", inplace=True)\n",
    "\n",
    "    return df_out"
   ]
  },
  {
   "cell_type": "code",
   "execution_count": 4,
   "metadata": {},
   "outputs": [
    {
     "name": "stdout",
     "output_type": "stream",
     "text": [
      "(42, 2)\n"
     ]
    },
    {
     "data": {
      "application/vnd.microsoft.datawrangler.viewer.v0+json": {
       "columns": [
        {
         "name": "number",
         "rawType": "object",
         "type": "unknown"
        },
        {
         "name": "tws size",
         "rawType": "object",
         "type": "string"
        },
        {
         "name": "Zig Optimized",
         "rawType": "object",
         "type": "string"
        }
       ],
       "conversionMethod": "pd.DataFrame",
       "ref": "9acc1812-71ef-4907-8364-56b308928413",
       "rows": [
        [
         "0",
         "4",
         "16"
        ],
        [
         "1",
         "5",
         "20"
        ],
        [
         "2",
         "7",
         "20"
        ],
        [
         "3",
         "9",
         "16"
        ],
        [
         "4",
         "11",
         "36"
        ],
        [
         "5",
         "13",
         "33"
        ],
        [
         "6",
         "16",
         "45"
        ],
        [
         "7",
         "20",
         "49"
        ],
        [
         "8",
         "23",
         "56"
        ],
        [
         "9",
         "28",
         "67"
        ],
        [
         "10",
         "33",
         "101"
        ],
        [
         "11",
         "38",
         "92"
        ],
        [
         "12",
         "45",
         "102"
        ],
        [
         "13",
         "52",
         "103"
        ],
        [
         "14",
         "60",
         "127"
        ],
        [
         "15",
         "69",
         "140"
        ],
        [
         "16",
         "79",
         "173"
        ],
        [
         "17",
         "91",
         "202"
        ],
        [
         "18",
         "104",
         "218"
        ],
        [
         "19",
         "119",
         "220"
        ],
        [
         "20",
         "135",
         "235"
        ],
        [
         "21",
         "154",
         "298"
        ],
        [
         "22",
         "174",
         "311"
        ],
        [
         "23",
         "198",
         "329"
        ],
        [
         "24",
         "223",
         "438"
        ],
        [
         "25",
         "252",
         "390"
        ],
        [
         "26",
         "285",
         "442"
        ],
        [
         "27",
         "321",
         "624"
        ],
        [
         "28",
         "362",
         "547"
        ],
        [
         "29",
         "407",
         "653"
        ],
        [
         "30",
         "457",
         "693"
        ],
        [
         "31",
         "513",
         "723"
        ],
        [
         "32",
         "575",
         "785"
        ],
        [
         "33",
         "645",
         "915"
        ],
        [
         "34",
         "723",
         "983"
        ],
        [
         "35",
         "809",
         "1193"
        ],
        [
         "36",
         "905",
         "1350"
        ],
        [
         "37",
         "1011",
         "1481"
        ],
        [
         "38",
         "1130",
         "1525"
        ],
        [
         "39",
         "1261",
         "1691"
        ],
        [
         "40",
         "1407",
         "1970"
        ],
        [
         "41",
         "1570",
         "2256"
        ]
       ],
       "shape": {
        "columns": 2,
        "rows": 42
       }
      },
      "text/html": [
       "<div>\n",
       "<style scoped>\n",
       "    .dataframe tbody tr th:only-of-type {\n",
       "        vertical-align: middle;\n",
       "    }\n",
       "\n",
       "    .dataframe tbody tr th {\n",
       "        vertical-align: top;\n",
       "    }\n",
       "\n",
       "    .dataframe thead th {\n",
       "        text-align: right;\n",
       "    }\n",
       "</style>\n",
       "<table border=\"1\" class=\"dataframe\">\n",
       "  <thead>\n",
       "    <tr style=\"text-align: right;\">\n",
       "      <th></th>\n",
       "      <th>tws size</th>\n",
       "      <th>Zig Optimized</th>\n",
       "    </tr>\n",
       "    <tr>\n",
       "      <th>number</th>\n",
       "      <th></th>\n",
       "      <th></th>\n",
       "    </tr>\n",
       "  </thead>\n",
       "  <tbody>\n",
       "    <tr>\n",
       "      <th>0</th>\n",
       "      <td>4</td>\n",
       "      <td>16</td>\n",
       "    </tr>\n",
       "    <tr>\n",
       "      <th>1</th>\n",
       "      <td>5</td>\n",
       "      <td>20</td>\n",
       "    </tr>\n",
       "    <tr>\n",
       "      <th>2</th>\n",
       "      <td>7</td>\n",
       "      <td>20</td>\n",
       "    </tr>\n",
       "    <tr>\n",
       "      <th>3</th>\n",
       "      <td>9</td>\n",
       "      <td>16</td>\n",
       "    </tr>\n",
       "    <tr>\n",
       "      <th>4</th>\n",
       "      <td>11</td>\n",
       "      <td>36</td>\n",
       "    </tr>\n",
       "    <tr>\n",
       "      <th>5</th>\n",
       "      <td>13</td>\n",
       "      <td>33</td>\n",
       "    </tr>\n",
       "    <tr>\n",
       "      <th>6</th>\n",
       "      <td>16</td>\n",
       "      <td>45</td>\n",
       "    </tr>\n",
       "    <tr>\n",
       "      <th>7</th>\n",
       "      <td>20</td>\n",
       "      <td>49</td>\n",
       "    </tr>\n",
       "    <tr>\n",
       "      <th>8</th>\n",
       "      <td>23</td>\n",
       "      <td>56</td>\n",
       "    </tr>\n",
       "    <tr>\n",
       "      <th>9</th>\n",
       "      <td>28</td>\n",
       "      <td>67</td>\n",
       "    </tr>\n",
       "    <tr>\n",
       "      <th>10</th>\n",
       "      <td>33</td>\n",
       "      <td>101</td>\n",
       "    </tr>\n",
       "    <tr>\n",
       "      <th>11</th>\n",
       "      <td>38</td>\n",
       "      <td>92</td>\n",
       "    </tr>\n",
       "    <tr>\n",
       "      <th>12</th>\n",
       "      <td>45</td>\n",
       "      <td>102</td>\n",
       "    </tr>\n",
       "    <tr>\n",
       "      <th>13</th>\n",
       "      <td>52</td>\n",
       "      <td>103</td>\n",
       "    </tr>\n",
       "    <tr>\n",
       "      <th>14</th>\n",
       "      <td>60</td>\n",
       "      <td>127</td>\n",
       "    </tr>\n",
       "    <tr>\n",
       "      <th>15</th>\n",
       "      <td>69</td>\n",
       "      <td>140</td>\n",
       "    </tr>\n",
       "    <tr>\n",
       "      <th>16</th>\n",
       "      <td>79</td>\n",
       "      <td>173</td>\n",
       "    </tr>\n",
       "    <tr>\n",
       "      <th>17</th>\n",
       "      <td>91</td>\n",
       "      <td>202</td>\n",
       "    </tr>\n",
       "    <tr>\n",
       "      <th>18</th>\n",
       "      <td>104</td>\n",
       "      <td>218</td>\n",
       "    </tr>\n",
       "    <tr>\n",
       "      <th>19</th>\n",
       "      <td>119</td>\n",
       "      <td>220</td>\n",
       "    </tr>\n",
       "    <tr>\n",
       "      <th>20</th>\n",
       "      <td>135</td>\n",
       "      <td>235</td>\n",
       "    </tr>\n",
       "    <tr>\n",
       "      <th>21</th>\n",
       "      <td>154</td>\n",
       "      <td>298</td>\n",
       "    </tr>\n",
       "    <tr>\n",
       "      <th>22</th>\n",
       "      <td>174</td>\n",
       "      <td>311</td>\n",
       "    </tr>\n",
       "    <tr>\n",
       "      <th>23</th>\n",
       "      <td>198</td>\n",
       "      <td>329</td>\n",
       "    </tr>\n",
       "    <tr>\n",
       "      <th>24</th>\n",
       "      <td>223</td>\n",
       "      <td>438</td>\n",
       "    </tr>\n",
       "    <tr>\n",
       "      <th>25</th>\n",
       "      <td>252</td>\n",
       "      <td>390</td>\n",
       "    </tr>\n",
       "    <tr>\n",
       "      <th>26</th>\n",
       "      <td>285</td>\n",
       "      <td>442</td>\n",
       "    </tr>\n",
       "    <tr>\n",
       "      <th>27</th>\n",
       "      <td>321</td>\n",
       "      <td>624</td>\n",
       "    </tr>\n",
       "    <tr>\n",
       "      <th>28</th>\n",
       "      <td>362</td>\n",
       "      <td>547</td>\n",
       "    </tr>\n",
       "    <tr>\n",
       "      <th>29</th>\n",
       "      <td>407</td>\n",
       "      <td>653</td>\n",
       "    </tr>\n",
       "    <tr>\n",
       "      <th>30</th>\n",
       "      <td>457</td>\n",
       "      <td>693</td>\n",
       "    </tr>\n",
       "    <tr>\n",
       "      <th>31</th>\n",
       "      <td>513</td>\n",
       "      <td>723</td>\n",
       "    </tr>\n",
       "    <tr>\n",
       "      <th>32</th>\n",
       "      <td>575</td>\n",
       "      <td>785</td>\n",
       "    </tr>\n",
       "    <tr>\n",
       "      <th>33</th>\n",
       "      <td>645</td>\n",
       "      <td>915</td>\n",
       "    </tr>\n",
       "    <tr>\n",
       "      <th>34</th>\n",
       "      <td>723</td>\n",
       "      <td>983</td>\n",
       "    </tr>\n",
       "    <tr>\n",
       "      <th>35</th>\n",
       "      <td>809</td>\n",
       "      <td>1193</td>\n",
       "    </tr>\n",
       "    <tr>\n",
       "      <th>36</th>\n",
       "      <td>905</td>\n",
       "      <td>1350</td>\n",
       "    </tr>\n",
       "    <tr>\n",
       "      <th>37</th>\n",
       "      <td>1011</td>\n",
       "      <td>1481</td>\n",
       "    </tr>\n",
       "    <tr>\n",
       "      <th>38</th>\n",
       "      <td>1130</td>\n",
       "      <td>1525</td>\n",
       "    </tr>\n",
       "    <tr>\n",
       "      <th>39</th>\n",
       "      <td>1261</td>\n",
       "      <td>1691</td>\n",
       "    </tr>\n",
       "    <tr>\n",
       "      <th>40</th>\n",
       "      <td>1407</td>\n",
       "      <td>1970</td>\n",
       "    </tr>\n",
       "    <tr>\n",
       "      <th>41</th>\n",
       "      <td>1570</td>\n",
       "      <td>2256</td>\n",
       "    </tr>\n",
       "  </tbody>\n",
       "</table>\n",
       "</div>"
      ],
      "text/plain": [
       "       tws size Zig Optimized\n",
       "number                       \n",
       "0             4            16\n",
       "1             5            20\n",
       "2             7            20\n",
       "3             9            16\n",
       "4            11            36\n",
       "5            13            33\n",
       "6            16            45\n",
       "7            20            49\n",
       "8            23            56\n",
       "9            28            67\n",
       "10           33           101\n",
       "11           38            92\n",
       "12           45           102\n",
       "13           52           103\n",
       "14           60           127\n",
       "15           69           140\n",
       "16           79           173\n",
       "17           91           202\n",
       "18          104           218\n",
       "19          119           220\n",
       "20          135           235\n",
       "21          154           298\n",
       "22          174           311\n",
       "23          198           329\n",
       "24          223           438\n",
       "25          252           390\n",
       "26          285           442\n",
       "27          321           624\n",
       "28          362           547\n",
       "29          407           653\n",
       "30          457           693\n",
       "31          513           723\n",
       "32          575           785\n",
       "33          645           915\n",
       "34          723           983\n",
       "35          809          1193\n",
       "36          905          1350\n",
       "37         1011          1481\n",
       "38         1130          1525\n",
       "39         1261          1691\n",
       "40         1407          1970\n",
       "41         1570          2256"
      ]
     },
     "execution_count": 4,
     "metadata": {},
     "output_type": "execute_result"
    }
   ],
   "source": [
    "df_opt = get_time_data('./time_results/results_opt.txt',\n",
    "                     #   \"elapsed\"\n",
    "                       \"Zig Optimized\"\n",
    "                       )\n",
    "\n",
    "print(df_opt.shape)\n",
    "df_opt"
   ]
  },
  {
   "cell_type": "code",
   "execution_count": 5,
   "metadata": {},
   "outputs": [
    {
     "name": "stdout",
     "output_type": "stream",
     "text": [
      "(42, 2)\n"
     ]
    },
    {
     "data": {
      "application/vnd.microsoft.datawrangler.viewer.v0+json": {
       "columns": [
        {
         "name": "number",
         "rawType": "object",
         "type": "unknown"
        },
        {
         "name": "tws size",
         "rawType": "object",
         "type": "string"
        },
        {
         "name": "Zig Optimized",
         "rawType": "object",
         "type": "string"
        }
       ],
       "conversionMethod": "pd.DataFrame",
       "ref": "0769ce83-2d11-40be-8023-c612b9b710df",
       "rows": [
        [
         "0",
         "4",
         "16"
        ],
        [
         "1",
         "5",
         "20"
        ],
        [
         "2",
         "7",
         "20"
        ],
        [
         "3",
         "9",
         "16"
        ],
        [
         "4",
         "11",
         "36"
        ],
        [
         "5",
         "13",
         "33"
        ],
        [
         "6",
         "16",
         "45"
        ],
        [
         "7",
         "20",
         "49"
        ],
        [
         "8",
         "23",
         "56"
        ],
        [
         "9",
         "28",
         "67"
        ],
        [
         "10",
         "33",
         "101"
        ],
        [
         "11",
         "38",
         "92"
        ],
        [
         "12",
         "45",
         "102"
        ],
        [
         "13",
         "52",
         "103"
        ],
        [
         "14",
         "60",
         "127"
        ],
        [
         "15",
         "69",
         "140"
        ],
        [
         "16",
         "79",
         "173"
        ],
        [
         "17",
         "91",
         "202"
        ],
        [
         "18",
         "104",
         "218"
        ],
        [
         "19",
         "119",
         "220"
        ],
        [
         "20",
         "135",
         "235"
        ],
        [
         "21",
         "154",
         "298"
        ],
        [
         "22",
         "174",
         "311"
        ],
        [
         "23",
         "198",
         "329"
        ],
        [
         "24",
         "223",
         "438"
        ],
        [
         "25",
         "252",
         "390"
        ],
        [
         "26",
         "285",
         "442"
        ],
        [
         "27",
         "321",
         "624"
        ],
        [
         "28",
         "362",
         "547"
        ],
        [
         "29",
         "407",
         "653"
        ],
        [
         "30",
         "457",
         "693"
        ],
        [
         "31",
         "513",
         "723"
        ],
        [
         "32",
         "575",
         "785"
        ],
        [
         "33",
         "645",
         "915"
        ],
        [
         "34",
         "723",
         "983"
        ],
        [
         "35",
         "809",
         "1193"
        ],
        [
         "36",
         "905",
         "1350"
        ],
        [
         "37",
         "1011",
         "1481"
        ],
        [
         "38",
         "1130",
         "1525"
        ],
        [
         "39",
         "1261",
         "1691"
        ],
        [
         "40",
         "1407",
         "1970"
        ],
        [
         "41",
         "1570",
         "2256"
        ]
       ],
       "shape": {
        "columns": 2,
        "rows": 42
       }
      },
      "text/html": [
       "<div>\n",
       "<style scoped>\n",
       "    .dataframe tbody tr th:only-of-type {\n",
       "        vertical-align: middle;\n",
       "    }\n",
       "\n",
       "    .dataframe tbody tr th {\n",
       "        vertical-align: top;\n",
       "    }\n",
       "\n",
       "    .dataframe thead th {\n",
       "        text-align: right;\n",
       "    }\n",
       "</style>\n",
       "<table border=\"1\" class=\"dataframe\">\n",
       "  <thead>\n",
       "    <tr style=\"text-align: right;\">\n",
       "      <th></th>\n",
       "      <th>tws size</th>\n",
       "      <th>Zig Optimized</th>\n",
       "    </tr>\n",
       "    <tr>\n",
       "      <th>number</th>\n",
       "      <th></th>\n",
       "      <th></th>\n",
       "    </tr>\n",
       "  </thead>\n",
       "  <tbody>\n",
       "    <tr>\n",
       "      <th>0</th>\n",
       "      <td>4</td>\n",
       "      <td>16</td>\n",
       "    </tr>\n",
       "    <tr>\n",
       "      <th>1</th>\n",
       "      <td>5</td>\n",
       "      <td>20</td>\n",
       "    </tr>\n",
       "    <tr>\n",
       "      <th>2</th>\n",
       "      <td>7</td>\n",
       "      <td>20</td>\n",
       "    </tr>\n",
       "    <tr>\n",
       "      <th>3</th>\n",
       "      <td>9</td>\n",
       "      <td>16</td>\n",
       "    </tr>\n",
       "    <tr>\n",
       "      <th>4</th>\n",
       "      <td>11</td>\n",
       "      <td>36</td>\n",
       "    </tr>\n",
       "    <tr>\n",
       "      <th>5</th>\n",
       "      <td>13</td>\n",
       "      <td>33</td>\n",
       "    </tr>\n",
       "    <tr>\n",
       "      <th>6</th>\n",
       "      <td>16</td>\n",
       "      <td>45</td>\n",
       "    </tr>\n",
       "    <tr>\n",
       "      <th>7</th>\n",
       "      <td>20</td>\n",
       "      <td>49</td>\n",
       "    </tr>\n",
       "    <tr>\n",
       "      <th>8</th>\n",
       "      <td>23</td>\n",
       "      <td>56</td>\n",
       "    </tr>\n",
       "    <tr>\n",
       "      <th>9</th>\n",
       "      <td>28</td>\n",
       "      <td>67</td>\n",
       "    </tr>\n",
       "    <tr>\n",
       "      <th>10</th>\n",
       "      <td>33</td>\n",
       "      <td>101</td>\n",
       "    </tr>\n",
       "    <tr>\n",
       "      <th>11</th>\n",
       "      <td>38</td>\n",
       "      <td>92</td>\n",
       "    </tr>\n",
       "    <tr>\n",
       "      <th>12</th>\n",
       "      <td>45</td>\n",
       "      <td>102</td>\n",
       "    </tr>\n",
       "    <tr>\n",
       "      <th>13</th>\n",
       "      <td>52</td>\n",
       "      <td>103</td>\n",
       "    </tr>\n",
       "    <tr>\n",
       "      <th>14</th>\n",
       "      <td>60</td>\n",
       "      <td>127</td>\n",
       "    </tr>\n",
       "    <tr>\n",
       "      <th>15</th>\n",
       "      <td>69</td>\n",
       "      <td>140</td>\n",
       "    </tr>\n",
       "    <tr>\n",
       "      <th>16</th>\n",
       "      <td>79</td>\n",
       "      <td>173</td>\n",
       "    </tr>\n",
       "    <tr>\n",
       "      <th>17</th>\n",
       "      <td>91</td>\n",
       "      <td>202</td>\n",
       "    </tr>\n",
       "    <tr>\n",
       "      <th>18</th>\n",
       "      <td>104</td>\n",
       "      <td>218</td>\n",
       "    </tr>\n",
       "    <tr>\n",
       "      <th>19</th>\n",
       "      <td>119</td>\n",
       "      <td>220</td>\n",
       "    </tr>\n",
       "    <tr>\n",
       "      <th>20</th>\n",
       "      <td>135</td>\n",
       "      <td>235</td>\n",
       "    </tr>\n",
       "    <tr>\n",
       "      <th>21</th>\n",
       "      <td>154</td>\n",
       "      <td>298</td>\n",
       "    </tr>\n",
       "    <tr>\n",
       "      <th>22</th>\n",
       "      <td>174</td>\n",
       "      <td>311</td>\n",
       "    </tr>\n",
       "    <tr>\n",
       "      <th>23</th>\n",
       "      <td>198</td>\n",
       "      <td>329</td>\n",
       "    </tr>\n",
       "    <tr>\n",
       "      <th>24</th>\n",
       "      <td>223</td>\n",
       "      <td>438</td>\n",
       "    </tr>\n",
       "    <tr>\n",
       "      <th>25</th>\n",
       "      <td>252</td>\n",
       "      <td>390</td>\n",
       "    </tr>\n",
       "    <tr>\n",
       "      <th>26</th>\n",
       "      <td>285</td>\n",
       "      <td>442</td>\n",
       "    </tr>\n",
       "    <tr>\n",
       "      <th>27</th>\n",
       "      <td>321</td>\n",
       "      <td>624</td>\n",
       "    </tr>\n",
       "    <tr>\n",
       "      <th>28</th>\n",
       "      <td>362</td>\n",
       "      <td>547</td>\n",
       "    </tr>\n",
       "    <tr>\n",
       "      <th>29</th>\n",
       "      <td>407</td>\n",
       "      <td>653</td>\n",
       "    </tr>\n",
       "    <tr>\n",
       "      <th>30</th>\n",
       "      <td>457</td>\n",
       "      <td>693</td>\n",
       "    </tr>\n",
       "    <tr>\n",
       "      <th>31</th>\n",
       "      <td>513</td>\n",
       "      <td>723</td>\n",
       "    </tr>\n",
       "    <tr>\n",
       "      <th>32</th>\n",
       "      <td>575</td>\n",
       "      <td>785</td>\n",
       "    </tr>\n",
       "    <tr>\n",
       "      <th>33</th>\n",
       "      <td>645</td>\n",
       "      <td>915</td>\n",
       "    </tr>\n",
       "    <tr>\n",
       "      <th>34</th>\n",
       "      <td>723</td>\n",
       "      <td>983</td>\n",
       "    </tr>\n",
       "    <tr>\n",
       "      <th>35</th>\n",
       "      <td>809</td>\n",
       "      <td>1193</td>\n",
       "    </tr>\n",
       "    <tr>\n",
       "      <th>36</th>\n",
       "      <td>905</td>\n",
       "      <td>1350</td>\n",
       "    </tr>\n",
       "    <tr>\n",
       "      <th>37</th>\n",
       "      <td>1011</td>\n",
       "      <td>1481</td>\n",
       "    </tr>\n",
       "    <tr>\n",
       "      <th>38</th>\n",
       "      <td>1130</td>\n",
       "      <td>1525</td>\n",
       "    </tr>\n",
       "    <tr>\n",
       "      <th>39</th>\n",
       "      <td>1261</td>\n",
       "      <td>1691</td>\n",
       "    </tr>\n",
       "    <tr>\n",
       "      <th>40</th>\n",
       "      <td>1407</td>\n",
       "      <td>1970</td>\n",
       "    </tr>\n",
       "    <tr>\n",
       "      <th>41</th>\n",
       "      <td>1570</td>\n",
       "      <td>2256</td>\n",
       "    </tr>\n",
       "  </tbody>\n",
       "</table>\n",
       "</div>"
      ],
      "text/plain": [
       "       tws size Zig Optimized\n",
       "number                       \n",
       "0             4            16\n",
       "1             5            20\n",
       "2             7            20\n",
       "3             9            16\n",
       "4            11            36\n",
       "5            13            33\n",
       "6            16            45\n",
       "7            20            49\n",
       "8            23            56\n",
       "9            28            67\n",
       "10           33           101\n",
       "11           38            92\n",
       "12           45           102\n",
       "13           52           103\n",
       "14           60           127\n",
       "15           69           140\n",
       "16           79           173\n",
       "17           91           202\n",
       "18          104           218\n",
       "19          119           220\n",
       "20          135           235\n",
       "21          154           298\n",
       "22          174           311\n",
       "23          198           329\n",
       "24          223           438\n",
       "25          252           390\n",
       "26          285           442\n",
       "27          321           624\n",
       "28          362           547\n",
       "29          407           653\n",
       "30          457           693\n",
       "31          513           723\n",
       "32          575           785\n",
       "33          645           915\n",
       "34          723           983\n",
       "35          809          1193\n",
       "36          905          1350\n",
       "37         1011          1481\n",
       "38         1130          1525\n",
       "39         1261          1691\n",
       "40         1407          1970\n",
       "41         1570          2256"
      ]
     },
     "execution_count": 5,
     "metadata": {},
     "output_type": "execute_result"
    }
   ],
   "source": [
    "df_basic = get_time_data('./time_results/results_det.txt',\n",
    "                     #   \"elapsed\"\n",
    "                       \"Zig Basic\"\n",
    "                       )\n",
    "\n",
    "print(df_basic.shape)\n",
    "df_opt"
   ]
  },
  {
   "cell_type": "code",
   "execution_count": 18,
   "metadata": {},
   "outputs": [
    {
     "name": "stderr",
     "output_type": "stream",
     "text": [
      "C:\\Users\\Nando\\AppData\\Local\\Temp\\ipykernel_996\\4206457889.py:38: UserWarning: set_ticklabels() should only be used with a fixed number of ticks, i.e. after set_ticks() or using a FixedLocator.\n",
      "  ax.set_yticklabels(ax.get_yticks(), fontsize=12)\n"
     ]
    },
    {
     "data": {
      "image/png": "[encoded data removed]",
      "text/plain": [
       "<Figure size 1500x1000 with 1 Axes>"
      ]
     },
     "metadata": {},
     "output_type": "display_data"
    }
   ],
   "source": [
    "bar_width = .4\n",
    "opacity = 0.8\n",
    "bar_offset = 0\n",
    "x_len = df_basic.shape[0]\n",
    "\n",
    "x = np.arange(x_len) + bar_offset\n",
    "\n",
    "fig, ax = plt.subplots(1,1, figsize=(15,10))\n",
    "\n",
    "ax.bar(\n",
    "        x + bar_width * .5 , \n",
    "        df_basic[\"Zig Basic\"].astype(int), \n",
    "        width=bar_width, \n",
    "        color='#FF2C55',\n",
    "\n",
    "        alpha=opacity, \n",
    "        # edgecolor='black', \n",
    "        label='Zig Basic'\n",
    "        )\n",
    "\n",
    "\n",
    "ax.bar(\n",
    "        x - bar_width * .5, \n",
    "        df_opt[\"Zig Optimized\"].astype(int),\n",
    "        width=bar_width, \n",
    "        color='#3F8EFC',    \n",
    "        alpha=opacity, \n",
    "        # edgecolor='black', \n",
    "        label='Zig Optimaized')\n",
    "# ax.semilogx()\n",
    "ax.legend(fontsize=20)\n",
    "ax.set_xlim([-bar_width * 1.5 , x_len - bar_width ])\n",
    "\n",
    "ax.tick_params(axis='x', labelrotation=90)\n",
    "np.arange(0, 11, step=1)\n",
    "ax.set_xticks(np.arange(42),df_basic[\"tws size\"], fontsize=12)\n",
    "ax.set_xlabel(\"Time scales\", fontsize=20)\n",
    "ax.set_yticklabels(ax.get_yticks(), fontsize=12)\n",
    "ax.set_ylabel(\"Elapsed time (mili seconds)\", fontsize=20)\n",
    "# ax.set_title(\"Elapsed time for Zig Basic and Zig Optimized\")\n",
    "ax.yaxis.grid(True, alpha=0.5)\n",
    "plt.show()\n"
   ]
  },
  {
   "cell_type": "code",
   "execution_count": null,
   "metadata": {},
   "outputs": [],
   "source": []
  }
 ],
 "metadata": {
  "kernelspec": {
   "display_name": ".venv",
   "language": "python",
   "name": "python3"
  },
  "language_info": {
   "codemirror_mode": {
    "name": "ipython",
    "version": 3
   },
   "file_extension": ".py",
   "mimetype": "text/x-python",
   "name": "python",
   "nbconvert_exporter": "python",
   "pygments_lexer": "ipython3",
   "version": "3.12.4"
  }
 },
 "nbformat": 4,
 "nbformat_minor": 2
}
