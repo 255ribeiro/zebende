{
 "cells": [
  {
   "cell_type": "code",
   "execution_count": 1,
   "metadata": {},
   "outputs": [],
   "source": [
    "import numpy as np\n",
    "import zebende as zb\n",
    "import pandas as pd"
   ]
  },
  {
   "cell_type": "code",
   "execution_count": 2,
   "metadata": {},
   "outputs": [],
   "source": [
    "dmcx2_of = np.array([[7,2,3,4,5], [0,2,1,3,5]])"
   ]
  },
  {
   "cell_type": "code",
   "execution_count": null,
   "metadata": {},
   "outputs": [],
   "source": [
    "dmcx2_of = np.array([0,2,1,3,5])"
   ]
  },
  {
   "cell_type": "code",
   "execution_count": null,
   "metadata": {},
   "outputs": [],
   "source": [
    "dmcx2_of"
   ]
  },
  {
   "cell_type": "code",
   "execution_count": 3,
   "metadata": {},
   "outputs": [
    {
     "name": "stdout",
     "output_type": "stream",
     "text": [
      "<class 'numpy.ndarray'>\n"
     ]
    },
    {
     "data": {
      "text/plain": [
       "array([[7, 2, 3, 4, 5],\n",
       "       [0, 1, 2, 3, 5]])"
      ]
     },
     "execution_count": 3,
     "metadata": {},
     "output_type": "execute_result"
    }
   ],
   "source": [
    "zb.ordering_x_dmcx2_of(dmcx2_of)"
   ]
  },
  {
   "cell_type": "code",
   "execution_count": null,
   "metadata": {},
   "outputs": [],
   "source": [
    "tws = pd.read_csv('./test_data/time_window_scales.txt', header=None).to_numpy().flatten()\n",
    "tws"
   ]
  },
  {
   "cell_type": "code",
   "execution_count": null,
   "metadata": {},
   "outputs": [],
   "source": [
    "data_1 = pd.read_csv('./test_data/data_pre_proc/S001/S001_03/S001_03_F3.txt', header=None)\n",
    "data_2 = pd.read_csv('./test_data/data_pre_proc/S001/S001_03/S001_03_F6.txt', header=None)\n",
    "data_3 = pd.read_csv('./test_data/data_pre_proc/S001/S001_03/S001_03_P3.txt', header=None)\n",
    "data_4 = pd.read_csv('./test_data/data_pre_proc/S001/S001_03/S001_03_P6.txt', header=None)"
   ]
  },
  {
   "cell_type": "code",
   "execution_count": null,
   "metadata": {},
   "outputs": [],
   "source": [
    "data = pd.concat([data_1, data_2, data_3, data_4], axis=1)\n",
    "data.to_csv('./test_data/data_pre_proc/S001/four_channels.csv')"
   ]
  },
  {
   "cell_type": "code",
   "execution_count": null,
   "metadata": {},
   "outputs": [],
   "source": [
    "data.tail()"
   ]
  },
  {
   "cell_type": "code",
   "execution_count": null,
   "metadata": {},
   "outputs": [],
   "source": [
    "data = data.to_numpy()\n",
    "data"
   ]
  },
  {
   "cell_type": "code",
   "execution_count": null,
   "metadata": {},
   "outputs": [],
   "source": [
    "int_data = zb.integrated_series(data)\n",
    "int_data.shape[0]"
   ]
  },
  {
   "cell_type": "code",
   "execution_count": null,
   "metadata": {},
   "outputs": [],
   "source": [
    "dfa , dcca, pdcca = zb.p_dcca(int_data, tws)"
   ]
  },
  {
   "cell_type": "code",
   "execution_count": null,
   "metadata": {},
   "outputs": [],
   "source": [
    "pdcca.shape"
   ]
  },
  {
   "cell_type": "code",
   "execution_count": null,
   "metadata": {},
   "outputs": [],
   "source": [
    "dcca_of = zb.mat_index_comb(int_data, axis=1)"
   ]
  },
  {
   "cell_type": "code",
   "execution_count": null,
   "metadata": {},
   "outputs": [],
   "source": [
    "mat_pdcca = zb.p_dcca_simple_to_matrix(pdcca, DCCA_of=dcca_of)\n",
    "mat_pdcca.shape"
   ]
  },
  {
   "cell_type": "code",
   "execution_count": null,
   "metadata": {},
   "outputs": [],
   "source": [
    "dfa_2 , dcca_2, pdcca_2, dmc = zb.dmcx2(int_data, tws, dmcx2_of='all-full')"
   ]
  },
  {
   "cell_type": "code",
   "execution_count": null,
   "metadata": {},
   "outputs": [],
   "source": [
    "pdcca_2.shape"
   ]
  },
  {
   "cell_type": "code",
   "execution_count": null,
   "metadata": {},
   "outputs": [],
   "source": [
    "(mat_pdcca ==  pdcca_2).all()"
   ]
  },
  {
   "cell_type": "code",
   "execution_count": null,
   "metadata": {},
   "outputs": [],
   "source": [
    "pdcca_3 = zb.p_dcca_matrix_to_simple(mat_pdcca)\n",
    "(pdcca ==  pdcca_3).all()"
   ]
  },
  {
   "cell_type": "code",
   "execution_count": null,
   "metadata": {},
   "outputs": [],
   "source": [
    "dfa_2"
   ]
  },
  {
   "cell_type": "code",
   "execution_count": null,
   "metadata": {},
   "outputs": [],
   "source": [
    "pdcca"
   ]
  },
  {
   "cell_type": "code",
   "execution_count": null,
   "metadata": {},
   "outputs": [],
   "source": [
    "pdcca_2.transpose(2,0,1)"
   ]
  },
  {
   "cell_type": "code",
   "execution_count": null,
   "metadata": {},
   "outputs": [],
   "source": [
    "dmc"
   ]
  },
  {
   "cell_type": "markdown",
   "metadata": {},
   "source": [
    "[[1.         0.47030178 0.45810527]\n",
    " [0.47030178 1.         0.73191068]\n",
    " [0.45810527 0.73191068 1.        ]] [[0.86081923 0.59896514 0.49887712]]\n",
    "[[1.         0.47167895 0.46036665]\n",
    " [0.47167895 1.         0.72861283]\n",
    " [0.46036665 0.72861283 1.        ]] [[0.86969829 0.60025456 0.50163041]]\n",
    "[[1.         0.48228142 0.47344466]\n",
    " [0.48228142 1.         0.73597588]\n",
    " [0.47344466 0.73597588 1.        ]] [[0.88369784 0.61011439 0.51609336]]\n",
    "[[1.         0.49090246 0.48644053]\n",
    " [0.49090246 1.         0.74985759]\n",
    " [0.48644053 0.74985759 1.        ]] [[0.89272374 0.62040214 0.53288603]]\n",
    "[[1.         0.49594519 0.49773076]\n",
    " [0.49594519 1.         0.76465074]\n",
    " [0.49773076 0.76465074 1.        ]] [[0.89828945 0.62875523 0.54880357]]\n"
   ]
  },
  {
   "cell_type": "code",
   "execution_count": null,
   "metadata": {},
   "outputs": [],
   "source": [
    "rnd = 3\n",
    "result_check = pd.read_csv('test_data/data_proc/S001/S001_03/S001_03_DMCX2_F3_F6_P3_P6.txt',sep=' ', header=None,index_col=0, dtype=np.float64).head(dmc[:,0].size).to_numpy().flatten().round(rnd)\n",
    "result_check, result_check == dmc[:,0].round(rnd )"
   ]
  },
  {
   "cell_type": "code",
   "execution_count": null,
   "metadata": {},
   "outputs": [],
   "source": [
    "if (result_check == dmc[:,0].round(rnd)).all() == True:\n",
    "    print('pass')\n",
    "else:\n",
    "    print('found diference')\n"
   ]
  },
  {
   "cell_type": "code",
   "execution_count": null,
   "metadata": {},
   "outputs": [],
   "source": [
    "dmc"
   ]
  },
  {
   "cell_type": "code",
   "execution_count": null,
   "metadata": {},
   "outputs": [],
   "source": [
    "np.__version__"
   ]
  },
  {
   "cell_type": "code",
   "execution_count": null,
   "metadata": {},
   "outputs": [],
   "source": []
  }
 ],
 "metadata": {
  "kernelspec": {
   "display_name": ".venv",
   "language": "python",
   "name": "python3"
  },
  "language_info": {
   "codemirror_mode": {
    "name": "ipython",
    "version": 3
   },
   "file_extension": ".py",
   "mimetype": "text/x-python",
   "name": "python",
   "nbconvert_exporter": "python",
   "pygments_lexer": "ipython3",
   "version": "3.12.4"
  }
 },
 "nbformat": 4,
 "nbformat_minor": 2
}
