{
 "cells": [
  {
   "cell_type": "code",
   "execution_count": 1,
   "metadata": {},
   "outputs": [],
   "source": [
    "import numpy as np\n",
    "import zebende as zb\n",
    "import pandas as pd"
   ]
  },
  {
   "cell_type": "code",
   "execution_count": 2,
   "metadata": {},
   "outputs": [
    {
     "data": {
      "text/plain": [
       "array([4, 5, 7])"
      ]
     },
     "execution_count": 2,
     "metadata": {},
     "output_type": "execute_result"
    }
   ],
   "source": [
    "tws = pd.read_csv('./test_data/time_window_scales.txt', header=None).to_numpy().flatten()[:3]\n",
    "tws"
   ]
  },
  {
   "cell_type": "code",
   "execution_count": 3,
   "metadata": {},
   "outputs": [],
   "source": [
    "data_1 = pd.read_csv('./test_data/data_pre_proc/S001/S001_03/S001_03_F3.txt', header=None)\n",
    "data_2 = pd.read_csv('./test_data/data_pre_proc/S001/S001_03/S001_03_F6.txt', header=None)\n",
    "data_3 = pd.read_csv('./test_data/data_pre_proc/S001/S001_03/S001_03_P3.txt', header=None)\n",
    "data_4 = pd.read_csv('./test_data/data_pre_proc/S001/S001_03/S001_03_P6.txt', header=None)"
   ]
  },
  {
   "cell_type": "code",
   "execution_count": 4,
   "metadata": {},
   "outputs": [
    {
     "data": {
      "text/plain": [
       "array([[-28., -57., -43., -52.],\n",
       "       [-32., -67., -67., -60.],\n",
       "       [-44., -74., -74., -66.],\n",
       "       ...,\n",
       "       [-15., -54., -59., -57.],\n",
       "       [  0., -41., -25., -47.],\n",
       "       [-15., -48., -50., -72.]])"
      ]
     },
     "execution_count": 4,
     "metadata": {},
     "output_type": "execute_result"
    }
   ],
   "source": [
    "data = pd.concat([data_1, data_2, data_3, data_4], axis=1).to_numpy(dtype=np.float64)\n",
    "data"
   ]
  },
  {
   "cell_type": "code",
   "execution_count": 5,
   "metadata": {},
   "outputs": [
    {
     "data": {
      "text/plain": [
       "array([[-2.34179266e+01, -5.31401347e+01, -4.23017406e+01,\n",
       "        -4.93068860e+01],\n",
       "       [-5.08358531e+01, -1.16280269e+02, -1.08603481e+02,\n",
       "        -1.06613772e+02],\n",
       "       [-9.02537797e+01, -1.86420404e+02, -1.81905222e+02,\n",
       "        -1.69920658e+02],\n",
       "       ...,\n",
       "       [ 5.83585313e+00,  8.12802693e+01,  7.36034811e+01,\n",
       "         1.13613772e+02],\n",
       "       [ 1.04179266e+01,  4.41401347e+01,  4.93017406e+01,\n",
       "         6.93068860e+01],\n",
       "       [-2.77380252e-09, -1.07685594e-09, -2.15914042e-09,\n",
       "         1.08613563e-10]])"
      ]
     },
     "execution_count": 5,
     "metadata": {},
     "output_type": "execute_result"
    }
   ],
   "source": [
    "int_data = zb.integrated_series(data)\n",
    "int_data"
   ]
  },
  {
   "cell_type": "code",
   "execution_count": 6,
   "metadata": {},
   "outputs": [],
   "source": [
    "dfa , dcca, pdcca = zb.p_dcca(int_data, tws)"
   ]
  },
  {
   "cell_type": "code",
   "execution_count": null,
   "metadata": {},
   "outputs": [],
   "source": [
    "[[1, 2,0,3,4], [2,0,1,3,4]]"
   ]
  },
  {
   "cell_type": "code",
   "execution_count": 7,
   "metadata": {},
   "outputs": [
    {
     "name": "stdout",
     "output_type": "stream",
     "text": [
      "[[1.         0.47030178 0.45810527]\n",
      " [0.47030178 1.         0.73191068]\n",
      " [0.45810527 0.73191068 1.        ]] [[0.86081923]\n",
      " [0.59896514]\n",
      " [0.49887712]]\n",
      "[[1.         0.59896514 0.49887712]\n",
      " [0.59896514 1.         0.73191068]\n",
      " [0.49887712 0.73191068 1.        ]] [[0.86081923]\n",
      " [0.47030178]\n",
      " [0.45810527]]\n",
      "[[1.         0.86081923 0.49887712]\n",
      " [0.86081923 1.         0.45810527]\n",
      " [0.49887712 0.45810527 1.        ]] [[0.59896514]\n",
      " [0.47030178]\n",
      " [0.73191068]]\n",
      "[[1.         0.86081923 0.59896514]\n",
      " [0.86081923 1.         0.47030178]\n",
      " [0.59896514 0.47030178 1.        ]] [[0.49887712]\n",
      " [0.45810527]\n",
      " [0.73191068]]\n",
      "[[1.         0.47167895 0.46036665]\n",
      " [0.47167895 1.         0.72861283]\n",
      " [0.46036665 0.72861283 1.        ]] [[0.86969829]\n",
      " [0.60025456]\n",
      " [0.50163041]]\n",
      "[[1.         0.60025456 0.50163041]\n",
      " [0.60025456 1.         0.72861283]\n",
      " [0.50163041 0.72861283 1.        ]] [[0.86969829]\n",
      " [0.47167895]\n",
      " [0.46036665]]\n",
      "[[1.         0.86969829 0.50163041]\n",
      " [0.86969829 1.         0.46036665]\n",
      " [0.50163041 0.46036665 1.        ]] [[0.60025456]\n",
      " [0.47167895]\n",
      " [0.72861283]]\n",
      "[[1.         0.86969829 0.60025456]\n",
      " [0.86969829 1.         0.47167895]\n",
      " [0.60025456 0.47167895 1.        ]] [[0.50163041]\n",
      " [0.46036665]\n",
      " [0.72861283]]\n",
      "[[1.         0.48228142 0.47344466]\n",
      " [0.48228142 1.         0.73597588]\n",
      " [0.47344466 0.73597588 1.        ]] [[0.88369784]\n",
      " [0.61011439]\n",
      " [0.51609336]]\n",
      "[[1.         0.61011439 0.51609336]\n",
      " [0.61011439 1.         0.73597588]\n",
      " [0.51609336 0.73597588 1.        ]] [[0.88369784]\n",
      " [0.48228142]\n",
      " [0.47344466]]\n",
      "[[1.         0.88369784 0.51609336]\n",
      " [0.88369784 1.         0.47344466]\n",
      " [0.51609336 0.47344466 1.        ]] [[0.61011439]\n",
      " [0.48228142]\n",
      " [0.73597588]]\n",
      "[[1.         0.88369784 0.61011439]\n",
      " [0.88369784 1.         0.48228142]\n",
      " [0.61011439 0.48228142 1.        ]] [[0.51609336]\n",
      " [0.47344466]\n",
      " [0.73597588]]\n"
     ]
    }
   ],
   "source": [
    "dfa_2 , dcca_2, pdcca_2, dmc = zb.dmcx2(int_data, tws, dmcx2_of='all-full')"
   ]
  },
  {
   "cell_type": "code",
   "execution_count": 8,
   "metadata": {},
   "outputs": [
    {
     "data": {
      "text/plain": [
       "array([[10.21772684,  9.6465587 , 11.1907025 ,  9.96204291],\n",
       "       [13.54907402, 12.58526165, 14.79349141, 12.92467481],\n",
       "       [20.64787156, 18.7922314 , 22.42865193, 19.17401719]])"
      ]
     },
     "execution_count": 8,
     "metadata": {},
     "output_type": "execute_result"
    }
   ],
   "source": [
    "dfa_2"
   ]
  },
  {
   "cell_type": "code",
   "execution_count": 9,
   "metadata": {},
   "outputs": [
    {
     "data": {
      "text/plain": [
       "array([[0.86081923, 0.59896514, 0.49887712, 0.47030178, 0.45810527,\n",
       "        0.73191068],\n",
       "       [0.86969829, 0.60025456, 0.50163041, 0.47167895, 0.46036665,\n",
       "        0.72861283],\n",
       "       [0.88369784, 0.61011439, 0.51609336, 0.48228142, 0.47344466,\n",
       "        0.73597588]])"
      ]
     },
     "execution_count": 9,
     "metadata": {},
     "output_type": "execute_result"
    }
   ],
   "source": [
    "pdcca"
   ]
  },
  {
   "cell_type": "code",
   "execution_count": 10,
   "metadata": {},
   "outputs": [
    {
     "data": {
      "text/plain": [
       "(4, 4, 3)"
      ]
     },
     "execution_count": 10,
     "metadata": {},
     "output_type": "execute_result"
    }
   ],
   "source": [
    "pdcca_2.shape"
   ]
  },
  {
   "cell_type": "code",
   "execution_count": 11,
   "metadata": {},
   "outputs": [
    {
     "data": {
      "text/plain": [
       "array([[[1.        , 0.86081923, 0.59896514, 0.49887712],\n",
       "        [0.86081923, 1.        , 0.47030178, 0.45810527],\n",
       "        [0.59896514, 0.47030178, 1.        , 0.73191068],\n",
       "        [0.49887712, 0.45810527, 0.73191068, 1.        ]],\n",
       "\n",
       "       [[1.        , 0.86969829, 0.60025456, 0.50163041],\n",
       "        [0.86969829, 1.        , 0.47167895, 0.46036665],\n",
       "        [0.60025456, 0.47167895, 1.        , 0.72861283],\n",
       "        [0.50163041, 0.46036665, 0.72861283, 1.        ]],\n",
       "\n",
       "       [[1.        , 0.88369784, 0.61011439, 0.51609336],\n",
       "        [0.88369784, 1.        , 0.48228142, 0.47344466],\n",
       "        [0.61011439, 0.48228142, 1.        , 0.73597588],\n",
       "        [0.51609336, 0.47344466, 0.73597588, 1.        ]]])"
      ]
     },
     "execution_count": 11,
     "metadata": {},
     "output_type": "execute_result"
    }
   ],
   "source": [
    "pdcca_2.transpose(2,0,1)"
   ]
  },
  {
   "cell_type": "code",
   "execution_count": 12,
   "metadata": {},
   "outputs": [
    {
     "data": {
      "text/plain": [
       "array([[0.7907023 , 0.7518667 , 0.6233089 , 0.55512699],\n",
       "       [0.80407253, 0.76754982, 0.62145434, 0.55125401],\n",
       "       [0.82630671, 0.79290835, 0.63437872, 0.56323711]])"
      ]
     },
     "execution_count": 12,
     "metadata": {},
     "output_type": "execute_result"
    }
   ],
   "source": [
    "dmc"
   ]
  },
  {
   "cell_type": "markdown",
   "metadata": {},
   "source": [
    "[[1.         0.47030178 0.45810527]\n",
    " [0.47030178 1.         0.73191068]\n",
    " [0.45810527 0.73191068 1.        ]] [[0.86081923 0.59896514 0.49887712]]\n",
    "[[1.         0.47167895 0.46036665]\n",
    " [0.47167895 1.         0.72861283]\n",
    " [0.46036665 0.72861283 1.        ]] [[0.86969829 0.60025456 0.50163041]]\n",
    "[[1.         0.48228142 0.47344466]\n",
    " [0.48228142 1.         0.73597588]\n",
    " [0.47344466 0.73597588 1.        ]] [[0.88369784 0.61011439 0.51609336]]\n",
    "[[1.         0.49090246 0.48644053]\n",
    " [0.49090246 1.         0.74985759]\n",
    " [0.48644053 0.74985759 1.        ]] [[0.89272374 0.62040214 0.53288603]]\n",
    "[[1.         0.49594519 0.49773076]\n",
    " [0.49594519 1.         0.76465074]\n",
    " [0.49773076 0.76465074 1.        ]] [[0.89828945 0.62875523 0.54880357]]\n"
   ]
  },
  {
   "cell_type": "code",
   "execution_count": 13,
   "metadata": {},
   "outputs": [
    {
     "data": {
      "text/plain": [
       "(array([0.7907, 0.8041, 0.8263]), array([ True,  True,  True]))"
      ]
     },
     "execution_count": 13,
     "metadata": {},
     "output_type": "execute_result"
    }
   ],
   "source": [
    "rnd = 4\n",
    "result_check = pd.read_csv('test_data/data_proc/S001/S001_03/S001_03_DMCX2_F3_F6_P3_P6.txt',sep=' ', header=None,index_col=0, dtype=np.float64).head(dmc[:,0].size).to_numpy().flatten().round(rnd)\n",
    "result_check, result_check == dmc[:,0].round(rnd )"
   ]
  },
  {
   "cell_type": "code",
   "execution_count": 14,
   "metadata": {},
   "outputs": [
    {
     "name": "stdout",
     "output_type": "stream",
     "text": [
      "pass\n"
     ]
    }
   ],
   "source": [
    "if (result_check == dmc[:,0].round(rnd)).all() == True:\n",
    "    print('pass')\n",
    "else:\n",
    "    print('found diference')\n"
   ]
  },
  {
   "cell_type": "code",
   "execution_count": 15,
   "metadata": {},
   "outputs": [
    {
     "data": {
      "text/plain": [
       "array([[0.7907023 , 0.7518667 , 0.6233089 , 0.55512699],\n",
       "       [0.80407253, 0.76754982, 0.62145434, 0.55125401],\n",
       "       [0.82630671, 0.79290835, 0.63437872, 0.56323711]])"
      ]
     },
     "execution_count": 15,
     "metadata": {},
     "output_type": "execute_result"
    }
   ],
   "source": [
    "dmc"
   ]
  }
 ],
 "metadata": {
  "kernelspec": {
   "display_name": ".venv",
   "language": "python",
   "name": "python3"
  },
  "language_info": {
   "codemirror_mode": {
    "name": "ipython",
    "version": 3
   },
   "file_extension": ".py",
   "mimetype": "text/x-python",
   "name": "python",
   "nbconvert_exporter": "python",
   "pygments_lexer": "ipython3",
   "version": "3.12.4"
  }
 },
 "nbformat": 4,
 "nbformat_minor": 2
}
