{
 "cells": [
  {
   "cell_type": "code",
   "execution_count": 1,
   "metadata": {},
   "outputs": [],
   "source": [
    "import numpy as np\n",
    "import zebende as zb\n",
    "import pandas as pd\n",
    "from numba import cuda\n",
    "import cupy as cp"
   ]
  },
  {
   "cell_type": "code",
   "execution_count": 2,
   "metadata": {},
   "outputs": [],
   "source": [
    "tws = pd.read_csv('./test_data/time_window_scales.txt', header=None).to_numpy().flatten()[:]\n",
    "tws_D = cuda.to_device(tws)"
   ]
  },
  {
   "cell_type": "code",
   "execution_count": 3,
   "metadata": {},
   "outputs": [],
   "source": [
    "data_1 = pd.read_csv('./test_data/data_pre_proc/S001/S001_03/S001_03_F3.txt', header=None)\n",
    "data_2 = pd.read_csv('./test_data/data_pre_proc/S001/S001_03/S001_03_F6.txt', header=None)\n",
    "data_3 = pd.read_csv('./test_data/data_pre_proc/S001/S001_03/S001_03_P3.txt', header=None)\n",
    "data_4 = pd.read_csv('./test_data/data_pre_proc/S001/S001_03/S001_03_P6.txt', header=None)"
   ]
  },
  {
   "cell_type": "code",
   "execution_count": 4,
   "metadata": {},
   "outputs": [
    {
     "data": {
      "text/plain": [
       "array([[-28., -57., -43., -52.],\n",
       "       [-32., -67., -67., -60.],\n",
       "       [-44., -74., -74., -66.],\n",
       "       ...,\n",
       "       [-15., -54., -59., -57.],\n",
       "       [  0., -41., -25., -47.],\n",
       "       [-15., -48., -50., -72.]])"
      ]
     },
     "execution_count": 4,
     "metadata": {},
     "output_type": "execute_result"
    }
   ],
   "source": [
    "data = pd.concat([data_1, data_2, data_3, data_4], axis=1).to_numpy(dtype=np.float64)\n",
    "data"
   ]
  },
  {
   "cell_type": "code",
   "execution_count": 5,
   "metadata": {},
   "outputs": [],
   "source": [
    "int_data = zb.integrated_series(data).T\n",
    "int_data_D = cp.array(int_data)"
   ]
  },
  {
   "cell_type": "code",
   "execution_count": 6,
   "metadata": {},
   "outputs": [],
   "source": [
    "DCCA_of = zb.mat_index_comb(int_data, axis=0)\n",
    "DCCA_of_D = cp.array(DCCA_of)"
   ]
  },
  {
   "cell_type": "code",
   "execution_count": 7,
   "metadata": {},
   "outputs": [],
   "source": [
    "time_steps = cp.arange(data.shape[0])\n",
    "# outputs\n",
    "F_DFA_arr = cp.zeros(shape=(tws.shape[0], data.shape[1], tws.shape[0]), dtype=data.dtype)\n",
    "DCCA_arr = cp.zeros(shape=(tws.shape[0], DCCA_of.shape[0], tws.shape[0]), dtype=data.dtype)\n",
    "P_DCCA_arr = cp.ones(shape=(DCCA_of.max() + 1, DCCA_of.max() + 1, tws.shape[0]), dtype=data.dtype)\n",
    "\n",
    "# auxiliary arrays\n",
    "detrend = cp.zeros(shape=(data.shape[0] - tws[0], data.shape[1], tws.shape[0]), dtype=data.dtype)\n",
    "\n",
    "f2dfa_n = cp.zeros(shape=(data.shape[0] - tws[0], data.shape[1], tws.shape[0]), dtype=data.dtype)\n",
    "\n",
    "dcca_n = cp.zeros(shape=(data.shape[0] - tws[0], DCCA_of.shape[0], tws.shape[0]), dtype=data.dtype)\n",
    "\n",
    "\n",
    "cuda."
   ]
  },
  {
   "cell_type": "code",
   "execution_count": 8,
   "metadata": {},
   "outputs": [],
   "source": [
    "@cuda.jit()\n",
    "def cuda_f2dfa(data, tws, time_steps, # input\n",
    "                f2dfa_n  # Output\n",
    "                ):\n",
    "    \n",
    "    x,y,z= cuda.grid(3)\n",
    "\n",
    "    if (x < data.shape[0]) and (y <data.shape[0] - tws[z]) and (z< tws.shape[0]):\n",
    "        x_sum = 0\n",
    "        y_sum = 0\n",
    "        xy_sum = 0\n",
    "        x2_sum = 0\n",
    "        npt_w = tws[z] + 1\n",
    "        for i in range(npt_w):\n",
    "            x_sum += time_steps[x + i]\n",
    "            y_sum += data[x, y + i]\n",
    "            xy_sum += time_steps[x + i] * data[x, y + i]\n",
    "            x2_sum += time_steps[x + i]**2\n",
    "        slope = ( ((npt_w * xy_sum) - (x_sum * y_sum)) / ((npt_w * x2_sum) - (x_sum**2)) )\n",
    "        inter = ( (y_sum - (slope * x_sum)) / (npt_w) )\n",
    "        tmp = 0\n",
    "        for i in range(npt_w):\n",
    "            tmp += ((data[x, y + i] - (slope * time_steps[x + i] + inter))**2)/npt_w\n",
    "        f2dfa_n[x,y,z] = tmp\n",
    "    "
   ]
  },
  {
   "cell_type": "code",
   "execution_count": 9,
   "metadata": {},
   "outputs": [],
   "source": [
    "tpb = 1\n",
    "bpg = 1"
   ]
  },
  {
   "cell_type": "code",
   "execution_count": 19,
   "metadata": {},
   "outputs": [
    {
     "data": {
      "text/plain": [
       "(4, 15742, 42)"
      ]
     },
     "execution_count": 19,
     "metadata": {},
     "output_type": "execute_result"
    }
   ],
   "source": [
    "GridDimX = data.shape[1]\n",
    "GridDimY = data.shape[0]\n",
    "GridDimZ = tws.shape[0]\n",
    "\n",
    "GridDimX, GridDimY, GridDimZ\n"
   ]
  },
  {
   "cell_type": "code",
   "execution_count": 20,
   "metadata": {},
   "outputs": [],
   "source": [
    "\n",
    "tpb = (1, int(np.ceil(GridDimY/64)), 1)\n",
    "bpg = (64,64, 64)"
   ]
  },
  {
   "cell_type": "code",
   "execution_count": 23,
   "metadata": {},
   "outputs": [],
   "source": [
    "cuda_f2dfa[bpg, tpb](int_data_D, tws_D, time_steps, f2dfa_n)"
   ]
  },
  {
   "cell_type": "code",
   "execution_count": 24,
   "metadata": {},
   "outputs": [
    {
     "ename": "AttributeError",
     "evalue": "'ndarray' object has no attribute 'copy_to_host'",
     "output_type": "error",
     "traceback": [
      "\u001b[1;31m---------------------------------------------------------------------------\u001b[0m",
      "\u001b[1;31mAttributeError\u001b[0m                            Traceback (most recent call last)",
      "Cell \u001b[1;32mIn[24], line 1\u001b[0m\n\u001b[1;32m----> 1\u001b[0m result_array \u001b[38;5;241m=\u001b[39m \u001b[43mf2dfa_n\u001b[49m\u001b[38;5;241;43m.\u001b[39;49m\u001b[43mcopy_to_host\u001b[49m()\n",
      "\u001b[1;31mAttributeError\u001b[0m: 'ndarray' object has no attribute 'copy_to_host'"
     ]
    }
   ],
   "source": [
    "result_array = f2dfa_n.copy_to_host()\n"
   ]
  }
 ],
 "metadata": {
  "kernelspec": {
   "display_name": ".venv",
   "language": "python",
   "name": "python3"
  },
  "language_info": {
   "codemirror_mode": {
    "name": "ipython",
    "version": 3
   },
   "file_extension": ".py",
   "mimetype": "text/x-python",
   "name": "python",
   "nbconvert_exporter": "python",
   "pygments_lexer": "ipython3",
   "version": "3.12.4"
  }
 },
 "nbformat": 4,
 "nbformat_minor": 2
}
