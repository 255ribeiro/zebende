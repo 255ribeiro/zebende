{
 "cells": [
  {
   "cell_type": "code",
   "execution_count": 1,
   "metadata": {},
   "outputs": [],
   "source": [
    "import numpy as np\n",
    "import zebende as zb\n",
    "import pandas as pd\n",
    "from numba import cuda\n",
    "import cupy as cp"
   ]
  },
  {
   "cell_type": "code",
   "execution_count": 2,
   "metadata": {},
   "outputs": [],
   "source": [
    "tws = pd.read_csv('./test_data/time_window_scales.txt', header=None).to_numpy().flatten()[:]\n",
    "tws_D = cuda.to_device(tws)"
   ]
  },
  {
   "cell_type": "code",
   "execution_count": 3,
   "metadata": {},
   "outputs": [],
   "source": [
    "data_1 = pd.read_csv('./test_data/data_pre_proc/S001/S001_03/S001_03_F3.txt', header=None)\n",
    "data_2 = pd.read_csv('./test_data/data_pre_proc/S001/S001_03/S001_03_F6.txt', header=None)\n",
    "data_3 = pd.read_csv('./test_data/data_pre_proc/S001/S001_03/S001_03_P3.txt', header=None)\n",
    "data_4 = pd.read_csv('./test_data/data_pre_proc/S001/S001_03/S001_03_P6.txt', header=None)"
   ]
  },
  {
   "cell_type": "code",
   "execution_count": 4,
   "metadata": {},
   "outputs": [
    {
     "data": {
      "text/plain": [
       "(15742, 4)"
      ]
     },
     "execution_count": 4,
     "metadata": {},
     "output_type": "execute_result"
    }
   ],
   "source": [
    "data = pd.concat([data_1, data_2, data_3, data_4], axis=1).to_numpy(dtype=np.float64)\n",
    "data . data.shape"
   ]
  },
  {
   "cell_type": "code",
   "execution_count": 5,
   "metadata": {},
   "outputs": [],
   "source": [
    "int_data = zb.integrated_series(data).T\n",
    "int_data_D = cp.array(int_data)"
   ]
  },
  {
   "cell_type": "code",
   "execution_count": 6,
   "metadata": {},
   "outputs": [],
   "source": [
    "DCCA_of = zb.mat_index_comb(int_data, axis=0)\n",
    "DCCA_of_D = cp.array(DCCA_of)"
   ]
  },
  {
   "cell_type": "code",
   "execution_count": 7,
   "metadata": {},
   "outputs": [],
   "source": [
    "time_steps = cp.arange(data.shape[0])\n",
    "\n",
    "# outputs\n",
    "F_DFA_arr = cp.zeros(shape=(tws.shape[0], data.shape[1], tws.shape[0]), dtype=data.dtype)\n",
    "DCCA_arr = cp.zeros(shape=(tws.shape[0], DCCA_of.shape[0], tws.shape[0]), dtype=data.dtype)\n",
    "P_DCCA_arr = cp.ones(shape=(DCCA_of.max() + 1, DCCA_of.max() + 1, tws.shape[0]), dtype=data.dtype)\n",
    "\n",
    "# auxiliary arrays\n",
    "detrend = cp.zeros(shape=(data.shape[0] - tws[0], data.shape[1], tws.shape[0]), dtype=data.dtype)\n",
    "\n",
    "f2dfa_n = cp.zeros(shape=(data.shape[0] - tws[0], data.shape[1], tws.shape[0]), dtype=data.dtype)\n",
    "\n",
    "dcca_n = cp.zeros(shape=(data.shape[0] - tws[0], DCCA_of.shape[0], tws.shape[0]), dtype=data.dtype)\n"
   ]
  },
  {
   "cell_type": "code",
   "execution_count": 8,
   "metadata": {},
   "outputs": [
    {
     "data": {
      "text/plain": [
       "(4, 15742)"
      ]
     },
     "execution_count": 8,
     "metadata": {},
     "output_type": "execute_result"
    }
   ],
   "source": [
    "int_data_D.shape"
   ]
  },
  {
   "cell_type": "code",
   "execution_count": 9,
   "metadata": {},
   "outputs": [],
   "source": [
    "@cuda.jit()\n",
    "def cuda_f2dfa(data, tws, time_steps, # input\n",
    "                f2dfa_n  # Output\n",
    "                ):\n",
    "    \n",
    "    x,y,z= cuda.grid(3)\n",
    "\n",
    "    # if (x <4) and (y <4) and (z<4):\n",
    "    #     ...\n",
    "\n",
    "    if (x < data.shape[0] )  and (y < data.shape[1] -tws[z]) and (z < tws[z]):\n",
    "        x_sum = 0\n",
    "        y_sum = 0\n",
    "        xy_sum = 0\n",
    "        x2_sum = 0\n",
    "        n_pt_w = tws[z] + 1\n",
    "\n",
    "        # fit line\n",
    "        for i in range(n_pt_w):\n",
    "            x_sum += time_steps[x + i]\n",
    "            y_sum += data[x, y + i]\n",
    "            xy_sum += time_steps[x + i] * data[x, y + i]\n",
    "            x2_sum += time_steps[x + i]**2\n",
    "        slope = ( ((n_pt_w * xy_sum) - (x_sum * y_sum)) / ((n_pt_w * x2_sum) - (x_sum**2)) )\n",
    "        inter = ( (y_sum - (slope * x_sum)) / (n_pt_w) )\n",
    "\n",
    "        # detrended mean\n",
    "        tmp = 0\n",
    "        for i in range(n_pt_w):\n",
    "            tmp += ((data[x, y + i] - (slope * time_steps[x + i] + inter))**2)/n_pt_w\n",
    "\n",
    "        # return value\n",
    "        f2dfa_n[x,y,z] = tmp\n",
    "    "
   ]
  },
  {
   "cell_type": "code",
   "execution_count": 10,
   "metadata": {},
   "outputs": [
    {
     "data": {
      "text/plain": [
       "(15742, 4, 42)"
      ]
     },
     "execution_count": 10,
     "metadata": {},
     "output_type": "execute_result"
    }
   ],
   "source": [
    "GridDimX = data.shape[0]\n",
    "GridDimY = data.shape[1]\n",
    "GridDimZ = tws.shape[0]\n",
    "\n",
    "GridDimX, GridDimY, GridDimZ"
   ]
  },
  {
   "cell_type": "code",
   "execution_count": 11,
   "metadata": {},
   "outputs": [
    {
     "data": {
      "text/plain": [
       "((246, 1, 1), (64, 64, 64))"
      ]
     },
     "execution_count": 11,
     "metadata": {},
     "output_type": "execute_result"
    }
   ],
   "source": [
    "\n",
    "tpb = (int(np.ceil(GridDimX/64)), int(np.ceil(GridDimY/64)), int(np.ceil(GridDimZ/64)))\n",
    "bpg = (64,64, 64)\n",
    "\n",
    "tpb , bpg"
   ]
  },
  {
   "cell_type": "code",
   "execution_count": 26,
   "metadata": {},
   "outputs": [],
   "source": [
    "cuda_f2dfa[bpg, tpb](int_data_D, tws_D, time_steps, f2dfa_n)\n",
    "DFA_gpu = cp.sqrt(f2dfa_n.sum(axis=0))"
   ]
  },
  {
   "cell_type": "code",
   "execution_count": 27,
   "metadata": {},
   "outputs": [
    {
     "data": {
      "text/plain": [
       "(cupy.ndarray, <CUDA Device 0>)"
      ]
     },
     "execution_count": 27,
     "metadata": {},
     "output_type": "execute_result"
    }
   ],
   "source": [
    "type(f2dfa_n), f2dfa_n.device"
   ]
  },
  {
   "cell_type": "code",
   "execution_count": 28,
   "metadata": {},
   "outputs": [
    {
     "data": {
      "text/plain": [
       "(4, 42)"
      ]
     },
     "execution_count": 28,
     "metadata": {},
     "output_type": "execute_result"
    }
   ],
   "source": [
    "DFA_cpu = cp.asnumpy(DFA_gpu)\n",
    "DFA_cpu.shape"
   ]
  },
  {
   "cell_type": "code",
   "execution_count": 25,
   "metadata": {},
   "outputs": [
    {
     "data": {
      "text/plain": [
       "array([[   8.84194549,   10.63860893,   16.10279479, ...,    0.        ,\n",
       "           0.        ,    0.        ],\n",
       "       [  10.43072385,   16.23400312,   19.2122646 , ...,    0.        ,\n",
       "           0.        ,    0.        ],\n",
       "       [  13.6057914 ,   17.26211617,   16.75843782, ...,    0.        ,\n",
       "           0.        ,    0.        ],\n",
       "       ...,\n",
       "       [4879.86050465, 5515.31359409, 5419.30412669, ...,    0.        ,\n",
       "           0.        ,    0.        ],\n",
       "       [4690.3891318 , 6257.71574151, 6260.40679493, ...,    0.        ,\n",
       "           0.        ,    0.        ],\n",
       "       [4849.32439126, 6409.69878436, 7316.17314371, ...,    0.        ,\n",
       "           0.        ,    0.        ]])"
      ]
     },
     "execution_count": 25,
     "metadata": {},
     "output_type": "execute_result"
    }
   ],
   "source": [
    "DFA_cpu.T"
   ]
  },
  {
   "cell_type": "code",
   "execution_count": 21,
   "metadata": {},
   "outputs": [
    {
     "data": {
      "text/plain": [
       "168"
      ]
     },
     "execution_count": 21,
     "metadata": {},
     "output_type": "execute_result"
    }
   ],
   "source": [
    "np.unique(DFA_cpu).size"
   ]
  }
 ],
 "metadata": {
  "kernelspec": {
   "display_name": ".venv",
   "language": "python",
   "name": "python3"
  },
  "language_info": {
   "codemirror_mode": {
    "name": "ipython",
    "version": 3
   },
   "file_extension": ".py",
   "mimetype": "text/x-python",
   "name": "python",
   "nbconvert_exporter": "python",
   "pygments_lexer": "ipython3",
   "version": "3.12.4"
  }
 },
 "nbformat": 4,
 "nbformat_minor": 2
}
