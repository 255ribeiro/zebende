{
 "cells": [
  {
   "cell_type": "code",
   "execution_count": null,
   "metadata": {},
   "outputs": [],
   "source": [
    "import numpy as np\n",
    "import zebende as zb\n",
    "import pandas as pd\n",
    "from pathlib import Path"
   ]
  },
  {
   "cell_type": "code",
   "execution_count": null,
   "metadata": {},
   "outputs": [],
   "source": [
    "# criando um vetor com as jalenas temporais\n",
    "tws = np.array([4, 9, 28, 60, 104, 407, 4564, 35212, 86015, 252313], dtype=np.int64)[:2]\n",
    "tws.size"
   ]
  },
  {
   "cell_type": "code",
   "execution_count": null,
   "metadata": {},
   "outputs": [],
   "source": [
    "# criando uma fila de arquivos a serem processados\n",
    "root = Path()\n",
    "# data folder\n",
    "data_dir = root / 'data_eeg'\n",
    "# 'file path'/name.txt generator\n",
    "file_gen = data_dir.glob('*.txt')"
   ]
  },
  {
   "cell_type": "code",
   "execution_count": 4,
   "metadata": {},
   "outputs": [],
   "source": [
    "for i in file_gen:\n",
    "    print( 'processing file: {} ...'.format(i.name))\n",
    "    # carregando o arquivo selecionado\n",
    "    data = pd.read_csv(i)\n",
    "    # filtrando as series que serão processadas \n",
    "    data = data.iloc[:, 1:30]\n",
    "    # convertendo em uma matriz numpy\n",
    "    data_np = data.to_numpy()\n",
    "    print('\\tdata shape: {}\\n\\tTime window scale size: {}'.format(data_np.shape, tws.size))\n",
    "    # criando a série integrada\n",
    "    int_data = zb.integrated_series(data_np)\n",
    "    # calculando o dfa\n",
    "    dfa = zb.dfa(int_data, tws)\n",
    "    # Colocando as escalas temporais ao lado dos cálculos do dfa. \n",
    "    dfa_concat = np.c_[tws, dfa]\n",
    "    # gravando os resultados no sistema de arquivos\n",
    "    pd_dfa = pd.DataFrame(dfa_concat)\n",
    "    # renomeando coluna 0 para tws\n",
    "    pd_dfa.rename(columns={0: \"tws\"}, inplace=True)\n",
    "    # mudando tipo de dado para a coluna tws\n",
    "    pd_dfa = pd_dfa.astype({\"tws\": 'int64'})\n",
    "    # Criando path e nome do arquivo do resultado\n",
    "    out_file_path = data_dir / 'dfa_out_{}.dat'.format(i.stem)\n",
    "    # gravando dataframe\n",
    "    pd_dfa.to_csv(out_file_path, sep=' ', index=False)\n",
    "    print('file {} processed!'.format(i.name))"
   ]
  }
 ],
 "metadata": {
  "kernelspec": {
   "display_name": ".venv",
   "language": "python",
   "name": "python3"
  },
  "language_info": {
   "codemirror_mode": {
    "name": "ipython",
    "version": 3
   },
   "file_extension": ".py",
   "mimetype": "text/x-python",
   "name": "python",
   "nbconvert_exporter": "python",
   "pygments_lexer": "ipython3",
   "version": "3.12.4"
  }
 },
 "nbformat": 4,
 "nbformat_minor": 2
}
