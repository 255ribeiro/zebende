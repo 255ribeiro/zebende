{
 "cells": [
  {
   "cell_type": "code",
   "execution_count": 1,
   "metadata": {},
   "outputs": [
    {
     "ename": "ImportError",
     "evalue": "cannot import name 'dfa' from 'zebende.dfa' (d:\\gitrepos\\zebende\\zebende\\dfa.py)",
     "output_type": "error",
     "traceback": [
      "\u001b[1;31m---------------------------------------------------------------------------\u001b[0m",
      "\u001b[1;31mImportError\u001b[0m                               Traceback (most recent call last)",
      "Cell \u001b[1;32mIn[1], line 2\u001b[0m\n\u001b[0;32m      1\u001b[0m \u001b[38;5;28;01mimport\u001b[39;00m\u001b[38;5;250m \u001b[39m\u001b[38;5;21;01mnumpy\u001b[39;00m\u001b[38;5;250m \u001b[39m\u001b[38;5;28;01mas\u001b[39;00m\u001b[38;5;250m \u001b[39m\u001b[38;5;21;01mnp\u001b[39;00m\n\u001b[1;32m----> 2\u001b[0m \u001b[38;5;28;01mimport\u001b[39;00m\u001b[38;5;250m \u001b[39m\u001b[38;5;21;01mzebende\u001b[39;00m\u001b[38;5;250m \u001b[39m\u001b[38;5;28;01mas\u001b[39;00m\u001b[38;5;250m \u001b[39m\u001b[38;5;21;01mzb\u001b[39;00m\n\u001b[0;32m      3\u001b[0m \u001b[38;5;28;01mimport\u001b[39;00m\u001b[38;5;250m \u001b[39m\u001b[38;5;21;01mpandas\u001b[39;00m\u001b[38;5;250m \u001b[39m\u001b[38;5;28;01mas\u001b[39;00m\u001b[38;5;250m \u001b[39m\u001b[38;5;21;01mpd\u001b[39;00m\n\u001b[0;32m      4\u001b[0m \u001b[38;5;28;01mfrom\u001b[39;00m\u001b[38;5;250m \u001b[39m\u001b[38;5;21;01mpathlib\u001b[39;00m\u001b[38;5;250m \u001b[39m\u001b[38;5;28;01mimport\u001b[39;00m Path\n",
      "File \u001b[1;32md:\\gitrepos\\zebende\\zebende\\__init__.py:13\u001b[0m\n\u001b[0;32m     10\u001b[0m \u001b[38;5;28;01mfrom\u001b[39;00m\u001b[38;5;250m \u001b[39m\u001b[38;5;21;01m.\u001b[39;00m\u001b[38;5;21;01mp_dcca\u001b[39;00m\u001b[38;5;250m \u001b[39m\u001b[38;5;28;01mimport\u001b[39;00m p_dcca \u001b[38;5;28;01mas\u001b[39;00m p_dcca\n\u001b[0;32m     11\u001b[0m \u001b[38;5;28;01mfrom\u001b[39;00m\u001b[38;5;250m \u001b[39m\u001b[38;5;21;01m.\u001b[39;00m\u001b[38;5;21;01mp_dcca_pure_python\u001b[39;00m\u001b[38;5;250m \u001b[39m\u001b[38;5;28;01mimport\u001b[39;00m p_dcca_pure_python \u001b[38;5;28;01mas\u001b[39;00m p_dcca_pure_python\n\u001b[1;32m---> 13\u001b[0m \u001b[38;5;28;01mfrom\u001b[39;00m\u001b[38;5;250m \u001b[39m\u001b[38;5;21;01m.\u001b[39;00m\u001b[38;5;21;01mdfa\u001b[39;00m\u001b[38;5;250m \u001b[39m\u001b[38;5;28;01mimport\u001b[39;00m dfa \u001b[38;5;28;01mas\u001b[39;00m dfa\n\u001b[0;32m     14\u001b[0m \u001b[38;5;28;01mfrom\u001b[39;00m\u001b[38;5;250m \u001b[39m\u001b[38;5;21;01m.\u001b[39;00m\u001b[38;5;21;01mdcca_of_from_dmcx2_of\u001b[39;00m\u001b[38;5;250m \u001b[39m\u001b[38;5;28;01mimport\u001b[39;00m dcca_of_from_dmcx2_of \u001b[38;5;28;01mas\u001b[39;00m dcca_of_from_dmcx2_of\n\u001b[0;32m     16\u001b[0m \u001b[38;5;28;01mfrom\u001b[39;00m\u001b[38;5;250m \u001b[39m\u001b[38;5;21;01m.\u001b[39;00m\u001b[38;5;21;01mp_dcca_simple_output\u001b[39;00m\u001b[38;5;250m \u001b[39m\u001b[38;5;28;01mimport\u001b[39;00m p_dcca_simple_output \u001b[38;5;28;01mas\u001b[39;00m p_dcca_simple_output\n",
      "\u001b[1;31mImportError\u001b[0m: cannot import name 'dfa' from 'zebende.dfa' (d:\\gitrepos\\zebende\\zebende\\dfa.py)"
     ]
    }
   ],
   "source": [
    "import numpy as np\n",
    "import zebende as zb\n",
    "import pandas as pd\n",
    "from pathlib import Path"
   ]
  },
  {
   "cell_type": "code",
   "execution_count": 12,
   "metadata": {},
   "outputs": [],
   "source": [
    "# criando um vetor com as jalenas temporais\n",
    "tws = np.array([4, 9, 28, 60, 104, 407, 4564, 35212, 86015, 252313], dtype=np.int64) "
   ]
  },
  {
   "cell_type": "code",
   "execution_count": 2,
   "metadata": {},
   "outputs": [
    {
     "ename": "NameError",
     "evalue": "name 'Path' is not defined",
     "output_type": "error",
     "traceback": [
      "\u001b[1;31m---------------------------------------------------------------------------\u001b[0m",
      "\u001b[1;31mNameError\u001b[0m                                 Traceback (most recent call last)",
      "Cell \u001b[1;32mIn[2], line 2\u001b[0m\n\u001b[0;32m      1\u001b[0m \u001b[38;5;66;03m# criando uma lista de arquivos a serem processados\u001b[39;00m\n\u001b[1;32m----> 2\u001b[0m root \u001b[38;5;241m=\u001b[39m \u001b[43mPath\u001b[49m()\n\u001b[0;32m      3\u001b[0m data_dir \u001b[38;5;241m=\u001b[39m root \u001b[38;5;241m/\u001b[39m \u001b[38;5;124m'\u001b[39m\u001b[38;5;124mdata_eeg\u001b[39m\u001b[38;5;124m'\u001b[39m\n\u001b[0;32m      4\u001b[0m file_gen \u001b[38;5;241m=\u001b[39m data_dir\u001b[38;5;241m.\u001b[39mglob(\u001b[38;5;124m'\u001b[39m\u001b[38;5;124m*.txt\u001b[39m\u001b[38;5;124m'\u001b[39m)\n",
      "\u001b[1;31mNameError\u001b[0m: name 'Path' is not defined"
     ]
    }
   ],
   "source": [
    "# criando uma lista de arquivos a serem processados\n",
    "root = Path()\n",
    "data_dir = root / 'data_eeg'\n",
    "file_gen = data_dir.glob('*.txt')\n",
    "file_list = list(file_gen)\n",
    "file_list"
   ]
  },
  {
   "cell_type": "code",
   "execution_count": 32,
   "metadata": {},
   "outputs": [
    {
     "data": {
      "text/plain": [
       "(       Time      1       2      3       4       5       6      7      8  \\\n",
       " 0  0.000000  1.875 -10.000 -0.875 -10.875  -5.625 -26.375  2.250  8.250   \n",
       " 1  0.001953 -0.375 -12.500  0.500 -12.125 -14.375 -29.500 -3.500 -0.375   \n",
       " 2  0.003906 -3.250 -12.500  1.750 -14.750 -24.125 -31.000 -5.125 -8.125   \n",
       " 3  0.005859  0.375 -10.125  4.000 -13.250 -17.500 -28.500 -1.250 -1.750   \n",
       " 4  0.007812  3.125  -7.250  3.875 -13.500 -18.625 -22.125  1.750 -2.250   \n",
       " \n",
       "        9  ...     26     27      28     29           30   31   32      33  \\\n",
       " 0  0.625  ...  8.375  5.375   3.500  1.500  7686.000385  0.0  0.0 -15.875   \n",
       " 1  1.375  ...  6.625  7.500  10.000 -4.375  7762.250388  0.0  0.0 -18.000   \n",
       " 2  2.000  ...  8.500  9.500  15.625 -0.625  7838.500392  0.0  0.0 -25.375   \n",
       " 3  3.000  ...  7.250  8.375  11.000 -0.750  7899.500395  0.0  0.0 -34.250   \n",
       " 4  3.000  ...  9.125  5.250   5.125  7.250  7884.250394  0.0  0.0 -43.500   \n",
       " \n",
       "         34    35  \n",
       " 0 -187.875  40.0  \n",
       " 1 -209.000  40.0  \n",
       " 2 -211.125  40.0  \n",
       " 3 -198.750  40.0  \n",
       " 4 -179.750  40.0  \n",
       " \n",
       " [5 rows x 36 columns],\n",
       "                 Time       1       2       3      4       5       6       7  \\\n",
       " 1343995  2624.990234  -3.250  11.500   6.375  3.125  21.750  13.625  14.000   \n",
       " 1343996  2624.992188  10.375  13.125   9.125  4.750  24.875  16.750  13.750   \n",
       " 1343997  2624.994141  16.250  12.750  11.875  7.875  27.750  20.375  16.625   \n",
       " 1343998  2624.996094  13.250   9.250   9.750  5.375  20.250  19.375  15.625   \n",
       " 1343999  2624.998047   8.875   9.000   7.875  4.625  19.375  18.000  16.625   \n",
       " \n",
       "               8       9  ...      26      27      28      29           30  \\\n",
       " 1343995  16.250  15.750  ...  27.750  12.250  19.750  25.375  8174.000409   \n",
       " 1343996  19.000  17.375  ...  24.875  14.500  21.750  23.750  8174.000409   \n",
       " 1343997  22.625  19.125  ...  25.125  16.500  24.375  24.125  8174.000409   \n",
       " 1343998  19.250  17.125  ...  23.250  12.875  21.875  21.625  8174.000409   \n",
       " 1343999  20.000  14.875  ...  22.250  11.500  20.750  22.375  8174.000409   \n",
       " \n",
       "           31   32      33       34    35  \n",
       " 1343995  0.0  0.0  44.500 -118.250  40.0  \n",
       " 1343996  0.0  0.0  43.375 -116.625  40.0  \n",
       " 1343997  0.0  0.0  41.750 -115.875  40.0  \n",
       " 1343998  0.0  0.0  46.500 -118.375  40.0  \n",
       " 1343999  0.0  0.0  49.250 -109.250  40.0  \n",
       " \n",
       " [5 rows x 36 columns])"
      ]
     },
     "execution_count": 32,
     "metadata": {},
     "output_type": "execute_result"
    }
   ],
   "source": [
    "# mude o indice para mudar o arquivo processado - não precisa mudar o nome do arquivo de saída\n",
    "file_index = 0\n",
    "# extraindo o nome do arquivo sem a extensão.\n",
    "file_stem = file_list[file_index].stem\n",
    "# carregando o arquivo selecionado\n",
    "data = pd.read_csv(file_list[file_index])\n",
    "data.head(), data.tail()"
   ]
  },
  {
   "cell_type": "code",
   "execution_count": 33,
   "metadata": {},
   "outputs": [
    {
     "data": {
      "text/plain": [
       "((1344000, 29),\n",
       " array([[  1.875, -10.   ,  -0.875, ...,   5.375,   3.5  ,   1.5  ],\n",
       "        [ -0.375, -12.5  ,   0.5  , ...,   7.5  ,  10.   ,  -4.375],\n",
       "        [ -3.25 , -12.5  ,   1.75 , ...,   9.5  ,  15.625,  -0.625],\n",
       "        ...,\n",
       "        [ 16.25 ,  12.75 ,  11.875, ...,  16.5  ,  24.375,  24.125],\n",
       "        [ 13.25 ,   9.25 ,   9.75 , ...,  12.875,  21.875,  21.625],\n",
       "        [  8.875,   9.   ,   7.875, ...,  11.5  ,  20.75 ,  22.375]]))"
      ]
     },
     "execution_count": 33,
     "metadata": {},
     "output_type": "execute_result"
    }
   ],
   "source": [
    "# filtrando as series que serão processadas \n",
    "data = data.iloc[:, 1:30]\n",
    "# convertendo em uma matriz numpy\n",
    "data_np = data.to_numpy()\n",
    "data_np.shape, data_np"
   ]
  },
  {
   "cell_type": "code",
   "execution_count": 5,
   "metadata": {},
   "outputs": [
    {
     "data": {
      "text/plain": [
       "array([[-2.92852334e+00, -1.53181278e+01],\n",
       "       [-8.10704669e+00, -3.31362556e+01],\n",
       "       [-1.61605700e+01, -5.09543834e+01],\n",
       "       ...,\n",
       "       [-1.25179569e+01, -7.61376308e+00],\n",
       "       [-4.07148028e+00, -3.68189087e+00],\n",
       "       [-3.62702056e-06, -1.86563898e-05]])"
      ]
     },
     "execution_count": 5,
     "metadata": {},
     "output_type": "execute_result"
    }
   ],
   "source": [
    "# calculando a série integrada\n",
    "int_data = zb.integrated_series(data_np)\n",
    "int_data"
   ]
  },
  {
   "cell_type": "code",
   "execution_count": 6,
   "metadata": {},
   "outputs": [],
   "source": [
    "# calculando o dfa\n",
    "dfa = zb.dfa(int_data, tws)"
   ]
  },
  {
   "cell_type": "code",
   "execution_count": 7,
   "metadata": {},
   "outputs": [
    {
     "data": {
      "text/plain": [
       "array([[4.22944952, 4.38531531],\n",
       "       [9.13674333, 9.13797854]])"
      ]
     },
     "execution_count": 7,
     "metadata": {},
     "output_type": "execute_result"
    }
   ],
   "source": [
    "dfa"
   ]
  },
  {
   "cell_type": "code",
   "execution_count": null,
   "metadata": {},
   "outputs": [],
   "source": [
    "# Colocando as escalas temporais ao lado dos cálculos do dfa. \n",
    "dfa_concat = np.c_[tws, dfa]\n",
    "dfa_concat"
   ]
  },
  {
   "cell_type": "code",
   "execution_count": 31,
   "metadata": {},
   "outputs": [],
   "source": [
    "# gravando os resultados no sistema de arquivos\n",
    "pd_dfa = pd.DataFrame(dfa_concat)\n",
    "out_file_path = data_dir / 'dfa_out_{}.dat'.format(file_stem)\n",
    "pd_dfa.to_csv('./data_eeg/dfa_out_{}.dat'.format(file_stem), sep=' ')"
   ]
  }
 ],
 "metadata": {
  "kernelspec": {
   "display_name": ".venv",
   "language": "python",
   "name": "python3"
  },
  "language_info": {
   "codemirror_mode": {
    "name": "ipython",
    "version": 3
   },
   "file_extension": ".py",
   "mimetype": "text/x-python",
   "name": "python",
   "nbconvert_exporter": "python",
   "pygments_lexer": "ipython3",
   "version": "3.12.4"
  }
 },
 "nbformat": 4,
 "nbformat_minor": 2
}
