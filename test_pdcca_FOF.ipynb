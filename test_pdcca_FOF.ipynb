{
 "cells": [
  {
   "cell_type": "code",
   "execution_count": 1,
   "metadata": {},
   "outputs": [],
   "source": [
    "import numpy as np\n",
    "import zebende as zb\n",
    "import pandas as pd\n",
    "from pathlib import Path"
   ]
  },
  {
   "cell_type": "code",
   "execution_count": 12,
   "metadata": {},
   "outputs": [],
   "source": [
    "# criando um vetor com as jalenas temporais\n",
    "tws = np.array([4, 9, 28, 60, 104, 407, 4564, 35212, 86015, 252313], dtype=np.int64) "
   ]
  },
  {
   "cell_type": "code",
   "execution_count": 28,
   "metadata": {},
   "outputs": [
    {
     "data": {
      "text/plain": [
       "[WindowsPath('data_eeg/PN00-1_data.txt'),\n",
       " WindowsPath('data_eeg/PN00-2_data.txt'),\n",
       " WindowsPath('data_eeg/PN00-3_data.txt'),\n",
       " WindowsPath('data_eeg/PN00-4_data.txt'),\n",
       " WindowsPath('data_eeg/PN00-5_data.txt')]"
      ]
     },
     "execution_count": 28,
     "metadata": {},
     "output_type": "execute_result"
    }
   ],
   "source": [
    "# criando uma lista de arquivos a serem processados\n",
    "root = Path()\n",
    "data_dir = root / 'data_eeg'\n",
    "file_gen = data_dir.glob('*.txt')\n",
    "file_list = list(file_gen)\n",
    "file_list"
   ]
  },
  {
   "cell_type": "code",
   "execution_count": 32,
   "metadata": {},
   "outputs": [
    {
     "data": {
      "text/plain": [
       "(       Time      1       2      3       4       5       6      7      8  \\\n",
       " 0  0.000000  1.875 -10.000 -0.875 -10.875  -5.625 -26.375  2.250  8.250   \n",
       " 1  0.001953 -0.375 -12.500  0.500 -12.125 -14.375 -29.500 -3.500 -0.375   \n",
       " 2  0.003906 -3.250 -12.500  1.750 -14.750 -24.125 -31.000 -5.125 -8.125   \n",
       " 3  0.005859  0.375 -10.125  4.000 -13.250 -17.500 -28.500 -1.250 -1.750   \n",
       " 4  0.007812  3.125  -7.250  3.875 -13.500 -18.625 -22.125  1.750 -2.250   \n",
       " \n",
       "        9  ...     26     27      28     29           30   31   32      33  \\\n",
       " 0  0.625  ...  8.375  5.375   3.500  1.500  7686.000385  0.0  0.0 -15.875   \n",
       " 1  1.375  ...  6.625  7.500  10.000 -4.375  7762.250388  0.0  0.0 -18.000   \n",
       " 2  2.000  ...  8.500  9.500  15.625 -0.625  7838.500392  0.0  0.0 -25.375   \n",
       " 3  3.000  ...  7.250  8.375  11.000 -0.750  7899.500395  0.0  0.0 -34.250   \n",
       " 4  3.000  ...  9.125  5.250   5.125  7.250  7884.250394  0.0  0.0 -43.500   \n",
       " \n",
       "         34    35  \n",
       " 0 -187.875  40.0  \n",
       " 1 -209.000  40.0  \n",
       " 2 -211.125  40.0  \n",
       " 3 -198.750  40.0  \n",
       " 4 -179.750  40.0  \n",
       " \n",
       " [5 rows x 36 columns],\n",
       "                 Time       1       2       3      4       5       6       7  \\\n",
       " 1343995  2624.990234  -3.250  11.500   6.375  3.125  21.750  13.625  14.000   \n",
       " 1343996  2624.992188  10.375  13.125   9.125  4.750  24.875  16.750  13.750   \n",
       " 1343997  2624.994141  16.250  12.750  11.875  7.875  27.750  20.375  16.625   \n",
       " 1343998  2624.996094  13.250   9.250   9.750  5.375  20.250  19.375  15.625   \n",
       " 1343999  2624.998047   8.875   9.000   7.875  4.625  19.375  18.000  16.625   \n",
       " \n",
       "               8       9  ...      26      27      28      29           30  \\\n",
       " 1343995  16.250  15.750  ...  27.750  12.250  19.750  25.375  8174.000409   \n",
       " 1343996  19.000  17.375  ...  24.875  14.500  21.750  23.750  8174.000409   \n",
       " 1343997  22.625  19.125  ...  25.125  16.500  24.375  24.125  8174.000409   \n",
       " 1343998  19.250  17.125  ...  23.250  12.875  21.875  21.625  8174.000409   \n",
       " 1343999  20.000  14.875  ...  22.250  11.500  20.750  22.375  8174.000409   \n",
       " \n",
       "           31   32      33       34    35  \n",
       " 1343995  0.0  0.0  44.500 -118.250  40.0  \n",
       " 1343996  0.0  0.0  43.375 -116.625  40.0  \n",
       " 1343997  0.0  0.0  41.750 -115.875  40.0  \n",
       " 1343998  0.0  0.0  46.500 -118.375  40.0  \n",
       " 1343999  0.0  0.0  49.250 -109.250  40.0  \n",
       " \n",
       " [5 rows x 36 columns])"
      ]
     },
     "execution_count": 32,
     "metadata": {},
     "output_type": "execute_result"
    }
   ],
   "source": [
    "# mude o indice para mudar o arquivo processado - não precisa mudar o nome do arquivo de saída\n",
    "file_index = 0\n",
    "# extraindo o nome do arquivo sem a extensão.\n",
    "file_stem = file_list[file_index].stem\n",
    "# carregando o arquivo selecionado\n",
    "data = pd.read_csv(file_list[file_index])\n",
    "data.head(), data.tail()"
   ]
  },
  {
   "cell_type": "code",
   "execution_count": 33,
   "metadata": {},
   "outputs": [
    {
     "data": {
      "text/plain": [
       "((1344000, 29),\n",
       " array([[  1.875, -10.   ,  -0.875, ...,   5.375,   3.5  ,   1.5  ],\n",
       "        [ -0.375, -12.5  ,   0.5  , ...,   7.5  ,  10.   ,  -4.375],\n",
       "        [ -3.25 , -12.5  ,   1.75 , ...,   9.5  ,  15.625,  -0.625],\n",
       "        ...,\n",
       "        [ 16.25 ,  12.75 ,  11.875, ...,  16.5  ,  24.375,  24.125],\n",
       "        [ 13.25 ,   9.25 ,   9.75 , ...,  12.875,  21.875,  21.625],\n",
       "        [  8.875,   9.   ,   7.875, ...,  11.5  ,  20.75 ,  22.375]]))"
      ]
     },
     "execution_count": 33,
     "metadata": {},
     "output_type": "execute_result"
    }
   ],
   "source": [
    "# filtrando as series que serão processadas \n",
    "data = data.iloc[:, 1:30]\n",
    "# convertendo em uma matriz numpy\n",
    "data_np = data.to_numpy()\n",
    "data_np.shape, data_np"
   ]
  },
  {
   "cell_type": "code",
   "execution_count": 5,
   "metadata": {},
   "outputs": [
    {
     "data": {
      "text/plain": [
       "array([[-2.92852334e+00, -1.53181278e+01],\n",
       "       [-8.10704669e+00, -3.31362556e+01],\n",
       "       [-1.61605700e+01, -5.09543834e+01],\n",
       "       ...,\n",
       "       [-1.25179569e+01, -7.61376308e+00],\n",
       "       [-4.07148028e+00, -3.68189087e+00],\n",
       "       [-3.62702056e-06, -1.86563898e-05]])"
      ]
     },
     "execution_count": 5,
     "metadata": {},
     "output_type": "execute_result"
    }
   ],
   "source": [
    "# calculando a série integrada\n",
    "int_data = zb.integrated_series(data_np)\n",
    "int_data"
   ]
  },
  {
   "cell_type": "code",
   "execution_count": 6,
   "metadata": {},
   "outputs": [],
   "source": [
    "# calculando o dfa\n",
    "dfa, dcca, Pdcca = zb.pdcca(int_data, tws)"
   ]
  },
  {
   "cell_type": "code",
   "execution_count": 7,
   "metadata": {},
   "outputs": [
    {
     "data": {
      "text/plain": [
       "array([[4.22944952, 4.38531531],\n",
       "       [9.13674333, 9.13797854]])"
      ]
     },
     "execution_count": 7,
     "metadata": {},
     "output_type": "execute_result"
    }
   ],
   "source": [
    "dfa"
   ]
  },
  {
   "cell_type": "code",
   "execution_count": null,
   "metadata": {},
   "outputs": [],
   "source": [
    "# Colocando as escalas temporais ao lado dos cálculos do dfa. \n",
    "dfa_concat = np.c_[tws, dfa]\n",
    "dcca_concat = np.c_[tws, dcca]\n",
    "Pdcca_concat = np.c_[tws, Pdcca]\n"
   ]
  },
  {
   "cell_type": "code",
   "execution_count": 31,
   "metadata": {},
   "outputs": [],
   "source": [
    "# gravando os resultados no sistema de arquivos\n",
    "pd_dfa = pd.DataFrame(dfa_concat)\n",
    "pd_dcca = pd.DataFrame(dcca_concat)\n",
    "pd_pdcca = pd.DataFrame(Pdcca_concat)\n",
    "out_dfa_path = data_dir / 'dfa_out_{}.dat'.format(file_stem)\n",
    "out_dcca_path = data_dir / 'dcca_out_{}.dat'.format(file_stem)\n",
    "out_pdcca_path = data_dir / 'pdcca_out_{}.dat'.format(file_stem)\n",
    "pd_dfa.to_csv('./data_eeg/dfa_out_{}.dat'.format(file_stem), sep=' ')\n",
    "pd_dcca.to_csv('./data_eeg/dcca_out_{}.dat'.format(file_stem), sep=' ')\n",
    "pd_pdcca.to_csv('./data_eeg/pdcca_out_{}.dat'.format(file_stem), sep=' ')"
   ]
  }
 ],
 "metadata": {
  "kernelspec": {
   "display_name": ".venv",
   "language": "python",
   "name": "python3"
  },
  "language_info": {
   "codemirror_mode": {
    "name": "ipython",
    "version": 3
   },
   "file_extension": ".py",
   "mimetype": "text/x-python",
   "name": "python",
   "nbconvert_exporter": "python",
   "pygments_lexer": "ipython3",
   "version": "3.12.4"
  }
 },
 "nbformat": 4,
 "nbformat_minor": 2
}
