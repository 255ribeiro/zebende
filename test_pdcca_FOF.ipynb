{
 "cells": [
  {
   "cell_type": "code",
   "execution_count": 2,
   "metadata": {},
   "outputs": [],
   "source": [
    "import numpy as np\n",
    "import zebende as zb\n",
    "import pandas as pd"
   ]
  },
  {
   "cell_type": "code",
   "execution_count": 5,
   "metadata": {},
   "outputs": [
    {
     "data": {
      "text/plain": [
       "array([     4,     13,     47,    161,    552,   1896,   6501,  22295,\n",
       "        76449, 262143])"
      ]
     },
     "execution_count": 5,
     "metadata": {},
     "output_type": "execute_result"
    }
   ],
   "source": [
    "np.geomspace(4, 1048575/4, 10, dtype=int)"
   ]
  },
  {
   "cell_type": "code",
   "execution_count": 6,
   "metadata": {},
   "outputs": [
    {
     "data": {
      "text/plain": [
       "array([     4,      7,     12,     19,     32,     50,     80,    124,\n",
       "          192,    294,    448,    678,   1024,   1538,   2304,   3439,\n",
       "         5120,   7602,  11264,  16653,  24576,  36203,  53248,  78200,\n",
       "       114688, 167985, 245760, 262143])"
      ]
     },
     "execution_count": 6,
     "metadata": {},
     "output_type": "execute_result"
    }
   ],
   "source": [
    "zb.time_windows(4, int(1048575/4), exp_fac=2)"
   ]
  },
  {
   "cell_type": "code",
   "execution_count": 12,
   "metadata": {},
   "outputs": [
    {
     "data": {
      "text/plain": [
       "array([ 4,  5,  7,  9, 11])"
      ]
     },
     "execution_count": 12,
     "metadata": {},
     "output_type": "execute_result"
    }
   ],
   "source": [
    "tws = pd.read_csv('./test_data/fof_data/dfa_C1.dat',sep = ' ', header=None).iloc[:,0].to_numpy()\n",
    "tws[:5]"
   ]
  },
  {
   "cell_type": "code",
   "execution_count": 8,
   "metadata": {},
   "outputs": [
    {
     "data": {
      "text/plain": [
       "((1048575, 1), (1048575, 1))"
      ]
     },
     "execution_count": 8,
     "metadata": {},
     "output_type": "execute_result"
    }
   ],
   "source": [
    "data_1 = pd.read_csv('./test_data/fof_data/C1.txt', header=None)\n",
    "data_2 = pd.read_csv('./test_data/fof_data/C2.txt', header=None)\n",
    "\n",
    "data_1.shape, data_2.shape\n"
   ]
  },
  {
   "cell_type": "code",
   "execution_count": 9,
   "metadata": {},
   "outputs": [
    {
     "data": {
      "text/plain": [
       "array([[  1.875, -10.   ],\n",
       "       [ -0.375, -12.5  ],\n",
       "       [ -3.25 , -12.5  ],\n",
       "       ...,\n",
       "       [ 19.   ,  10.875],\n",
       "       [ 23.   ,   6.875],\n",
       "       [ 19.375,   6.   ]])"
      ]
     },
     "execution_count": 9,
     "metadata": {},
     "output_type": "execute_result"
    }
   ],
   "source": [
    "data = pd.concat([data_1, data_2], axis=1).to_numpy(dtype=np.float64)\n",
    "data"
   ]
  },
  {
   "cell_type": "code",
   "execution_count": 10,
   "metadata": {},
   "outputs": [
    {
     "data": {
      "text/plain": [
       "array([[-2.86619591e+00, -1.47266615e+01],\n",
       "       [-7.98239182e+00, -3.19533231e+01],\n",
       "       [-1.59735877e+01, -4.91799846e+01],\n",
       "       ...,\n",
       "       [-3.28926222e+01, -3.42168579e+00],\n",
       "       [-1.46338181e+01, -1.27334733e+00],\n",
       "       [-1.40256088e-05, -8.87508887e-06]])"
      ]
     },
     "execution_count": 10,
     "metadata": {},
     "output_type": "execute_result"
    }
   ],
   "source": [
    "int_data = zb.integrated_series(data)\n",
    "int_data"
   ]
  },
  {
   "cell_type": "code",
   "execution_count": 13,
   "metadata": {},
   "outputs": [],
   "source": [
    "dfa , dcca, pdcca = zb.p_dcca(int_data, tws[:3])"
   ]
  },
  {
   "cell_type": "code",
   "execution_count": 9,
   "metadata": {},
   "outputs": [
    {
     "data": {
      "text/plain": [
       "array([[ 4.21736741,  4.37054342],\n",
       "       [ 5.33765957,  5.40752423],\n",
       "       [ 7.29990383,  7.2353615 ],\n",
       "       [ 8.97678766,  8.8500263 ],\n",
       "       [10.45112702, 10.29925774],\n",
       "       [11.79058833, 11.60589967],\n",
       "       [13.66662798, 13.36234174],\n",
       "       [16.11272024, 15.44218817],\n",
       "       [18.01614305, 16.87010021],\n",
       "       [21.49144328, 19.11780606]])"
      ]
     },
     "execution_count": 9,
     "metadata": {},
     "output_type": "execute_result"
    }
   ],
   "source": [
    "dfa"
   ]
  },
  {
   "cell_type": "code",
   "execution_count": 11,
   "metadata": {},
   "outputs": [
    {
     "data": {
      "text/plain": [
       "array([[ 4.        ,  4.21736741,  4.37054342],\n",
       "       [ 5.        ,  5.33765957,  5.40752423],\n",
       "       [ 7.        ,  7.29990383,  7.2353615 ],\n",
       "       [ 9.        ,  8.97678766,  8.8500263 ],\n",
       "       [11.        , 10.45112702, 10.29925774],\n",
       "       [13.        , 11.79058833, 11.60589967],\n",
       "       [16.        , 13.66662798, 13.36234174],\n",
       "       [20.        , 16.11272024, 15.44218817],\n",
       "       [23.        , 18.01614305, 16.87010021],\n",
       "       [28.        , 21.49144328, 19.11780606]])"
      ]
     },
     "execution_count": 11,
     "metadata": {},
     "output_type": "execute_result"
    }
   ],
   "source": [
    "np.concat((tws.reshape(10,1), dfa), axis=1)"
   ]
  },
  {
   "cell_type": "code",
   "execution_count": null,
   "metadata": {},
   "outputs": [],
   "source": [
    "dfa_2 , dcca_2, pdcca_2, dmc = zb.dmcx2(int_data, tws, dmcx2_of='all-full')"
   ]
  },
  {
   "cell_type": "code",
   "execution_count": null,
   "metadata": {},
   "outputs": [],
   "source": [
    "dfa_2"
   ]
  },
  {
   "cell_type": "code",
   "execution_count": null,
   "metadata": {},
   "outputs": [],
   "source": [
    "pdcca"
   ]
  },
  {
   "cell_type": "code",
   "execution_count": null,
   "metadata": {},
   "outputs": [],
   "source": [
    "pdcca_2.shape"
   ]
  },
  {
   "cell_type": "code",
   "execution_count": null,
   "metadata": {},
   "outputs": [],
   "source": [
    "pdcca_2.transpose(2,0,1)"
   ]
  },
  {
   "cell_type": "code",
   "execution_count": null,
   "metadata": {},
   "outputs": [],
   "source": [
    "dmc"
   ]
  },
  {
   "cell_type": "code",
   "execution_count": null,
   "metadata": {},
   "outputs": [],
   "source": [
    "rnd = 4\n",
    "result_check = pd.read_csv('test_data/data_proc/S001/S001_03/S001_03_DMCX2_F3_F6_P3_P6.txt',sep=' ', header=None,index_col=0, dtype=np.float64).head(dmc[:,0].size).to_numpy().flatten().round(rnd)\n",
    "result_check, result_check == dmc[:,0].round(rnd )"
   ]
  },
  {
   "cell_type": "code",
   "execution_count": null,
   "metadata": {},
   "outputs": [],
   "source": [
    "if (result_check == dmc[:,0].round(rnd)).all() == True:\n",
    "    print('pass')\n",
    "else:\n",
    "    print('found diference')\n"
   ]
  },
  {
   "cell_type": "code",
   "execution_count": null,
   "metadata": {},
   "outputs": [],
   "source": [
    "dmc"
   ]
  }
 ],
 "metadata": {
  "kernelspec": {
   "display_name": ".venv",
   "language": "python",
   "name": "python3"
  },
  "language_info": {
   "codemirror_mode": {
    "name": "ipython",
    "version": 3
   },
   "file_extension": ".py",
   "mimetype": "text/x-python",
   "name": "python",
   "nbconvert_exporter": "python",
   "pygments_lexer": "ipython3",
   "version": "3.12.4"
  }
 },
 "nbformat": 4,
 "nbformat_minor": 2
}
